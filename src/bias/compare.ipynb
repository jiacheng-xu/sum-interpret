{
 "metadata": {
  "language_info": {
   "codemirror_mode": {
    "name": "ipython",
    "version": 3
   },
   "file_extension": ".py",
   "mimetype": "text/x-python",
   "name": "python",
   "nbconvert_exporter": "python",
   "pygments_lexer": "ipython3",
   "version": "3.8.3"
  },
  "orig_nbformat": 2,
  "kernelspec": {
   "name": "python383jvsc74a57bd03b2768bf9bd6425acc869120a7136bda7c2db4d32a4c0d82d14afba9d9f0b9d5",
   "display_name": "Python 3.8.3 64-bit ('base': conda)"
  }
 },
 "nbformat": 4,
 "nbformat_minor": 2,
 "cells": [
  {
   "cell_type": "code",
   "execution_count": 1,
   "metadata": {},
   "outputs": [],
   "source": [
    "dir = '/home/jcxu/sum-interpret/data'\n",
    "after = 'dm_2015'\n",
    "before = 'dm_2014'\n",
    "import os\n",
    "import json\n"
   ]
  },
  {
   "cell_type": "code",
   "execution_count": 13,
   "metadata": {},
   "outputs": [
    {
     "output_type": "stream",
     "name": "stdout",
     "text": [
      "14489\n13629\n"
     ]
    }
   ],
   "source": [
    "with open(os.path.join(dir, before),'r') as fd:\n",
    "    bf = fd.read().splitlines()\n",
    "bf = [eval(b) for b in bf]\n",
    "\n",
    "with open(os.path.join(dir, after),'r') as fd:\n",
    "    af = fd.read().splitlines()\n",
    "af = [eval(a) for a in af]\n",
    "\n",
    "print(len(bf))\n",
    "print(len(af))"
   ]
  },
  {
   "cell_type": "code",
   "execution_count": 17,
   "metadata": {},
   "outputs": [
    {
     "output_type": "stream",
     "name": "stdout",
     "text": [
      "{'urlkey': 'uk,co,dailymail)/auhome/article-2708734/the-10-viral-videos-time-not-feature-cats.html', 'timestamp': '20141226225913', 'url': 'http://www.dailymail.co.uk/auhome/article-2708734/The-10-viral-videos-time-not-feature-cats.html', 'mime': 'text/html', 'status': '200', 'digest': 'NC5IQKDN5OUX5XUIQGNRZWL4Q6BS7NCK', 'length': '53732', 'offset': '194013151', 'filename': 'crawl-data/CC-MAIN-2014-52/segments/1419447549877.131/warc/CC-MAIN-20141224185909-00081-ip-10-231-17-201.ec2.internal.warc.gz'}\n{'urlkey': 'uk,co,dailymail)/coffeebreak/horoscopes/index.html', 'timestamp': '20141217212814', 'url': 'http://www.dailymail.co.uk/coffeebreak/horoscopes/index.html', 'mime': 'text/html', 'status': '200', 'digest': 'LZC3ZSAFD534JBISBYT64EA6GULVRLF4', 'length': '15933', 'offset': '568901870', 'filename': 'crawl-data/CC-MAIN-2014-52/segments/1418802764809.9/warc/CC-MAIN-20141217075244-00122-ip-10-231-17-201.ec2.internal.warc.gz'}\n6583\n"
     ]
    }
   ],
   "source": [
    "print(bf[0])\n",
    "print(bf[2])\n",
    "bf_keys = set([b['urlkey'] for b in bf])\n",
    "af_keys = set([a['urlkey'] for a in af])\n",
    "delta = af_keys.difference(bf_keys)\n",
    "print(len(delta))"
   ]
  },
  {
   "cell_type": "code",
   "execution_count": 28,
   "metadata": {
    "tags": []
   },
   "outputs": [
    {
     "output_type": "stream",
     "name": "stdout",
     "text": [
      "['{\"urlkey\": \"uk,co,dailymail)/columnists/article-1197503/black-dog-standing-moonlight-martyr.html\", \"timestamp\": \"20151130005037\", \"url\": \"http://www.dailymail.co.uk/columnists/article-1197503/BLACK-DOG-Standing-Moonlight-Martyr.html\", \"mime\": \"text/html\", \"status\": \"200\", \"digest\": \"YOP7UCNLHXIWB6LXVWVVHKHIMYI43ZMA\", \"length\": \"50247\", \"offset\": \"381438043\", \"filename\": \"crawl-data/CC-MAIN-2015-48/segments/1448398460519.28/warc/CC-MAIN-20151124205420-00172-ip-10-71-132-137.ec2.internal.warc.gz\"}', '{\"urlkey\": \"uk,co,dailymail)/columnists/article-1270880/melanie-phillips-the-orwellian-logic-thats-turning-faith-britain-built-crime.html\", \"timestamp\": \"20151129112700\", \"url\": \"http://www.dailymail.co.uk/columnists/article-1270880/MELANIE-PHILLIPS-The-Orwellian-logic-thats-turning-faith-Britain-built-crime.html\", \"mime\": \"text/html\", \"status\": \"200\", \"digest\": \"WYNLTYSREUYHZ7LBAVGGR66Y373BPX4J\", \"length\": \"51426\", \"offset\": \"371605726\", \"filename\": \"crawl-data/CC-MAIN-2015-48/segments/1448398457697.46/warc/CC-MAIN-20151124205417-00038-ip-10-71-132-137.ec2.internal.warc.gz\"}']\n"
     ]
    }
   ],
   "source": [
    "import json\n",
    "filtered = [a for a in af if a['urlkey'] in delta]\n",
    "json_mylist = [json.dumps(x) for x in filtered]\n",
    "\n",
    "print(json_mylist[:2])"
   ]
  },
  {
   "cell_type": "code",
   "execution_count": 29,
   "metadata": {},
   "outputs": [],
   "source": [
    "with open('/home/jcxu/sum-interpret/data/delta_2014_2015','w') as fd:\n",
    "    fd.write(\"\\n\".join(json_mylist))"
   ]
  },
  {
   "cell_type": "code",
   "execution_count": 38,
   "metadata": {},
   "outputs": [],
   "source": [
    "with open('/home/jcxu/sum-interpret/data/RS_combine.txt','r') as fd:\n",
    "    lines = fd.read().splitlines()\n",
    "lines = [ l for l in lines if ('cnn' in l) or ('dailymail' in l)]\n",
    "with open('/home/jcxu/sum-interpret/data/rs.txt','w') as fd:\n",
    "    fd.write(\"\\n\".join(lines))\n"
   ]
  },
  {
   "cell_type": "code",
   "execution_count": 39,
   "metadata": {
    "tags": []
   },
   "outputs": [
    {
     "output_type": "stream",
     "name": "stdout",
     "text": [
      "6907\n"
     ]
    }
   ],
   "source": [
    "print(len(lines))"
   ]
  },
  {
   "cell_type": "code",
   "execution_count": null,
   "metadata": {},
   "outputs": [],
   "source": []
  }
 ]
}