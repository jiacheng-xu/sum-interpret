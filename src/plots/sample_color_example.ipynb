{
 "metadata": {
  "language_info": {
   "codemirror_mode": {
    "name": "ipython",
    "version": 3
   },
   "file_extension": ".py",
   "mimetype": "text/x-python",
   "name": "python",
   "nbconvert_exporter": "python",
   "pygments_lexer": "ipython3",
   "version": "3.8.3-final"
  },
  "orig_nbformat": 2,
  "kernelspec": {
   "name": "python3",
   "display_name": "Python 3",
   "language": "python"
  }
 },
 "nbformat": 4,
 "nbformat_minor": 2,
 "cells": [
  {
   "cell_type": "code",
   "execution_count": 23,
   "metadata": {},
   "outputs": [],
   "source": [
    "f = '/mnt/data0/jcxu/csv_cnndm_0.5/viz.csv'\n",
    "import csv\n",
    "import pandas as pd \n",
    "# Read data from file 'filename.csv' \n",
    "# (in the same directory that your python process is based)\n",
    "# Control delimiters, rows, column names with read_csv (see later) \n",
    "data = pd.read_csv(f) \n",
    "# Preview the first 5 lines of the loaded data \n",
    "data.head()\n",
    "from itertools import groupby\n",
    "import collections\n",
    "from collections import Counter\n",
    "import math\n"
   ]
  },
  {
   "cell_type": "code",
   "execution_count": 24,
   "metadata": {},
   "outputs": [
    {
     "output_type": "stream",
     "name": "stdout",
     "text": [
      "\\definecolor{cthd}{rgb}{0.00392156862745098,0.45098039215686275,0.6980392156862745}\n\\definecolor{ct}{rgb}{0.00784313725490196,0.6196078431372549,0.45098039215686275}\n\\definecolor{lm}{rgb}{0.8352941176470589,0.3686274509803922,0.0}\n\\definecolor{pt}{rgb}{0.8,0.47058823529411764,0.7372549019607844}\n\\definecolor{ft}{rgb}{0.792156862745098,0.5686274509803921,0.3803921568627451}\n"
     ]
    }
   ],
   "source": [
    "import seaborn as sns\n",
    "colors = sns.color_palette(\"colorblind\", 6)\n",
    "lm_color = colors[3]\n",
    "ctx_color = colors[2]\n",
    "c_ctx_easy = ctx_color\n",
    "\n",
    "# c_other = colors[1]\n",
    "c_other = 'gray'\n",
    "pt_color = colors[4]\n",
    "td_color = colors[5]\n",
    "c_ctx_hd = colors[0]\n",
    "\n",
    "def fast_color(name,rgb):\n",
    "    print(\"\\definecolor{\" + name + \"}{rgb}{\" + str(rgb[0]) + \",\"  + str(rgb[1])+ \",\" + str(rgb[2]) + \"}\")\n",
    "fast_color(\"cthd\", c_ctx_hd)\n",
    "fast_color(\"ct\", ctx_color)\n",
    "fast_color(\"lm\", lm_color)\n",
    "fast_color(\"pt\", pt_color)\n",
    "fast_color(\"ft\", td_color)\n",
    "# \\definecolor{mypink1}{rgb}{0.858, 0.188, 0.478}"
   ]
  },
  {
   "cell_type": "code",
   "execution_count": 25,
   "metadata": {},
   "outputs": [],
   "source": [
    "def latex_color(cname, text):\n",
    "    return '\\\\textcolor{' + cname + '}{' + text +'}'"
   ]
  },
  {
   "cell_type": "code",
   "execution_count": 26,
   "metadata": {
    "tags": [
     "outputPrepend"
    ]
   },
   "outputs": [
    {
     "output_type": "stream",
     "name": "stdout",
     "text": [
      "lor{pt}{the} \\textcolor{pt}{door} \\textcolor{lm}{to} \\textcolor{ct}{discrimination} \\textcolor{pt}{against} \\textcolor{cthd}{gays} \\textcolor{cthd}{and} \\textcolor{lm}{lesbians} \\textcolor{lm}{The} \\textcolor{lm}{measure} \\textcolor{cthd}{aims} \\textcolor{lm}{to} \\textcolor{ct}{keep} \\textcolor{ct}{the} \\textcolor{pt}{state} \\textcolor{ct}{government} \\textcolor{lm}{from} \\textcolor{ct}{forcing} \n\n \\textcolor{ct}{Chelsea} \\textcolor{ct}{supporters} \\textcolor{cthd}{have} \\textcolor{cthd}{been} \\textcolor{ct}{involved} \\textcolor{lm}{in} \\textcolor{ct}{the} \\textcolor{ct}{highest} \\textcolor{pt}{number} \\textcolor{lm}{of} \\textcolor{ct}{reported} \\textcolor{ct}{racist} \\textcolor{lm}{incidents} \\textcolor{cthd}{as} \\textcolor{ct}{they} \\textcolor{ct}{travelled} \\textcolor{cthd}{to} \\textcolor{ct}{and} \\textcolor{lm}{from} \\textcolor{ct}{matches} \\textcolor{ct}{on} \\textcolor{ct}{trains} \\textcolor{ct}{The} \\textcolor{cthd}{information} \\textcolor{ct}{gathered} \\textcolor{ft}{from} \\textcolor{ct}{24} \\textcolor{ct}{police} \\textcolor{pt}{forces} \\textcolor{ct}{across} \\textcolor{lm}{the} \\textcolor{ct}{country} \\textcolor{ct}{shows} \\textcolor{ct}{there} \\textcolor{ct}{have} \\textcolor{lm}{been} \\textcolor{ct}{over} \\textcolor{ct}{350} \\textcolor{pt}{incidents} \\textcolor{ct}{since} \\textcolor{ct}{2012} \\textcolor{lm}{It} \\textcolor{cthd}{follows} \n\n \\textcolor{cthd}{Kris} \\textcolor{ct}{Deann} \\textcolor{ct}{Sharpley} \\textcolor{ct}{was} \\textcolor{ct}{on} \\textcolor{ct}{maternity} \\textcolor{lm}{leave} \\textcolor{ct}{and} \\textcolor{cthd}{had} \\textcolor{cthd}{just} \\textcolor{ct}{given} \\textcolor{lm}{birth} \\textcolor{lm}{to} \\textcolor{lm}{her} \\textcolor{cthd}{first} \\textcolor{lm}{child} \\textcolor{cthd}{Her} \\textcolor{cthd}{body} \\textcolor{lm}{was} \\textcolor{pt}{found} \\textcolor{pt}{in} \\textcolor{lm}{the} \\textcolor{ct}{bathroom} \\textcolor{cthd}{of} \\textcolor{cthd}{her} \\textcolor{ct}{father} \\textcolor{cthd}{'s} \\textcolor{lm}{home} \\textcolor{cthd}{Her} \\textcolor{ct}{son} \\textcolor{ct}{Jackson} \\textcolor{lm}{was} \\textcolor{ct}{also} \\textcolor{ct}{found} \\textcolor{pt}{dead} \\textcolor{lm}{in} \\textcolor{lm}{the} \\textcolor{cthd}{same} \\textcolor{cthd}{room} \n\n \\textcolor{ct}{The} \\textcolor{ct}{tiny} \\textcolor{cthd}{space} \\textcolor{ct}{probe} \\textcolor{ct}{bounced} \\textcolor{ct}{across} \\textcolor{lm}{the} \\textcolor{ct}{surface} \\textcolor{lm}{of} \\textcolor{ct}{Comet} \\textcolor{ct}{67P} \\textcolor{ct}{before} \\textcolor{ct}{touching} \\textcolor{pt}{down} \\textcolor{ct}{away} \\textcolor{lm}{from} \\textcolor{ct}{its} \\textcolor{ct}{intended} \\textcolor{ct}{landing} \\textcolor{ct}{zone} \\textcolor{ct}{It} \\textcolor{cthd}{returned} \\textcolor{cthd}{plenty} \\textcolor{lm}{of} \\textcolor{lm}{data} \\textcolor{ct}{from} \\textcolor{lm}{the} \\textcolor{ct}{surface} \\textcolor{ct}{but} \\textcolor{ct}{ended} \\textcolor{lm}{up} \\textcolor{ct}{in} \\textcolor{ct}{a} \\textcolor{ct}{shady} \\textcolor{ct}{spot} \\textcolor{ct}{where} \\textcolor{ct}{there} \\textcolor{ct}{was} \\textcolor{ct}{n't} \\textcolor{ct}{enough} \\textcolor{pt}{sunlight} \\textcolor{pt}{to} \\textcolor{ct}{keep} \\textcolor{ct}{it} \\textcolor{ct}{powered} \n\n \\textcolor{ct}{Mason} \\textcolor{cthd}{was} \\textcolor{ct}{drafted} \\textcolor{ct}{into} \\textcolor{lm}{the} \\textcolor{ct}{England} \\textcolor{ct}{squad} \\textcolor{ct}{following} \\textcolor{ct}{the} \\textcolor{ct}{withdrawal} \\textcolor{lm}{of} \\textcolor{ct}{Adam} \\textcolor{pt}{Lallana} \\textcolor{cthd}{and} \\textcolor{ct}{could} \\textcolor{ct}{make} \\textcolor{pt}{his} \\textcolor{lm}{debut} \\textcolor{ct}{in} \\textcolor{ct}{Friday} \\textcolor{lm}{'s} \\textcolor{ct}{Euro} \\textcolor{ct}{2016} \\textcolor{lm}{qualifier} \\textcolor{lm}{against} \\textcolor{ct}{Lithuania} \\textcolor{cthd}{or} \\textcolor{ct}{the} \\textcolor{ct}{friendly} \\textcolor{ct}{in} \\textcolor{ct}{Italy} \\textcolor{ct}{next} \\textcolor{ct}{Tuesday} \\textcolor{cthd}{The} \\textcolor{cthd}{Spurs} \\textcolor{ct}{midfielder} \\textcolor{ct}{has} \\textcolor{lm}{been} \\textcolor{ct}{in} \\textcolor{ct}{superb} \\textcolor{lm}{form} \\textcolor{pt}{this} \\textcolor{lm}{season} \n\n \\textcolor{cthd}{Elski} \\textcolor{ct}{Felson} \\textcolor{ct}{of} \\textcolor{ct}{Los} \\textcolor{lm}{Angeles} \\textcolor{lm}{California} \\textcolor{ct}{decided} \\textcolor{lm}{to} \\textcolor{ct}{apply} \\textcolor{lm}{for} \\textcolor{ct}{a} \\textcolor{ct}{Community} \\textcolor{ct}{Support} \\textcolor{ct}{Specialist} \\textcolor{ct}{role} \\textcolor{cthd}{at} \\textcolor{ct}{Snapchat} \\textcolor{ct}{via} \\textcolor{ct}{the} \\textcolor{ct}{social} \\textcolor{pt}{media} \\textcolor{ct}{app} \\textcolor{cthd}{In} \\textcolor{ct}{just} \\textcolor{ct}{over} \\textcolor{ct}{three} \\textcolor{ct}{minutes} \\textcolor{ft}{the} \\textcolor{ct}{tech} \\textcolor{ct}{enthusiast} \\textcolor{ct}{created} \\textcolor{lm}{a} \\textcolor{ct}{video} \\textcolor{ct}{resume} \\textcolor{ct}{underscoring} \\textcolor{ct}{how} \\textcolor{ct}{he} \\textcolor{ct}{'s} \\textcolor{ct}{a} \n\n \\textcolor{cthd}{The} \\textcolor{cthd}{tension} \\textcolor{ct}{between} \\textcolor{cthd}{organized} \\textcolor{ct}{labor} \\textcolor{lm}{and} \\textcolor{ct}{Obama} \\textcolor{cthd}{is} \\textcolor{ct}{not} \\textcolor{ct}{new} \\textcolor{cthd}{In} \\textcolor{cthd}{the} \\textcolor{ct}{1970s} \\textcolor{ct}{President} \\textcolor{pt}{Jimmy} \\textcolor{lm}{Carter} \\textcolor{ct}{treated} \\textcolor{ct}{unions} \\textcolor{ct}{like} \\textcolor{ct}{one} \\textcolor{ct}{more} \\textcolor{ct}{special} \\textcolor{ct}{interest} \\textcolor{ct}{in} \\textcolor{ct}{Washington} \\textcolor{ct}{that} \\textcolor{ct}{needed} \\textcolor{lm}{to} \\textcolor{lm}{be} \\textcolor{ct}{brought} \\textcolor{ct}{down} \\textcolor{ct}{President} \\textcolor{ct}{Bill} \\textcolor{lm}{Clinton} \\textcolor{ct}{demonstrated} \\textcolor{ct}{lukewarm} \\textcolor{lm}{support} \\textcolor{ct}{to} \\textcolor{ct}{these} \\textcolor{ct}{organizations} \n\n \\textcolor{cthd}{The} \\textcolor{cthd}{first} \\textcolor{ct}{two} \\textcolor{ct}{Sharknado} \\textcolor{ct}{films} \\textcolor{cthd}{churned} \\textcolor{ct}{up} \\textcolor{ct}{a} \\textcolor{ct}{storm} \\textcolor{lm}{of} \\textcolor{ct}{laughs} \\textcolor{lm}{and} \\textcolor{ct}{flooded} \\textcolor{lm}{the} \\textcolor{ct}{Twitterverse} \\textcolor{lm}{with} \\textcolor{ct}{clever} \\textcolor{ct}{one} \\textcolor{pt}{liners} \\textcolor{cthd}{This} \\textcolor{ct}{time} \\textcolor{cthd}{around} \\textcolor{cthd}{a} \\textcolor{ct}{sharknado} \\textcolor{cthd}{will} \\textcolor{ct}{tear} \\textcolor{ct}{into} \\textcolor{cthd}{in} \\textcolor{ct}{the} \\textcolor{ct}{nation} \\textcolor{lm}{'s} \\textcolor{lm}{capital} \\textcolor{ct}{before} \\textcolor{ct}{roaring} \\textcolor{ct}{down} \\textcolor{ct}{the} \n\n \\textcolor{ct}{Palin} \\textcolor{ct}{bought} \\textcolor{cthd}{the} \\textcolor{ct}{home} \\textcolor{ct}{in} \\textcolor{ct}{2011} \\textcolor{lm}{for} \\textcolor{ct}{388,000} \\textcolor{ct}{has} \\textcolor{ct}{since} \\textcolor{ct}{remodeled} \\textcolor{ct}{parts} \\textcolor{lm}{of} \\textcolor{pt}{the} \\textcolor{ct}{house} \\textcolor{cthd}{She} \\textcolor{cthd}{lives} \\textcolor{cthd}{in} \\textcolor{ct}{the} \\textcolor{ct}{3-bed} \\textcolor{ct}{3.5-bath} \\textcolor{ct}{3,200} \\textcolor{ct}{sq.ft} \\textcolor{cthd}{abode} \\textcolor{pt}{with} \\textcolor{lm}{her} \\textcolor{ct}{son} \n\n \\textcolor{ct}{In} \\textcolor{cthd}{the} \\textcolor{ct}{worst} \\textcolor{ct}{cases} \\textcolor{ct}{doctors} \\textcolor{ct}{have} \\textcolor{ct}{reported} \\textcolor{ct}{patients} \\textcolor{ct}{showing} \\textcolor{ct}{up} \\textcolor{ct}{because} \\textcolor{ct}{they} \\textcolor{ct}{were} \\textcolor{ct}{hungover} \\textcolor{ct}{their} \\textcolor{ct}{false} \\textcolor{ct}{nails} \\textcolor{ct}{were} \\textcolor{ct}{hurting} \\textcolor{pt}{or} \\textcolor{pt}{they} \\textcolor{pt}{had} \\textcolor{ct}{paint} \\textcolor{ct}{in} \\textcolor{lm}{their} \\textcolor{ct}{hair} \\textcolor{cthd}{More} \\textcolor{lm}{than} \\textcolor{cthd}{four} \\textcolor{ct}{million} \\textcolor{ct}{visits} \\textcolor{ct}{a} \\textcolor{ct}{year} \\textcolor{ct}{are} \\textcolor{ct}{unnecessary} \\textcolor{cthd}{and} \\textcolor{ct}{cost} \\textcolor{ct}{the} \\textcolor{ct}{NHS} \\textcolor{pt}{£} \\textcolor{ct}{290million} \\textcolor{ct}{annually} \n\n \\textcolor{cthd}{U.S.} \\textcolor{cthd}{diplomats} \\textcolor{ct}{have} \\textcolor{ct}{come} \\textcolor{ct}{under} \\textcolor{ct}{attack} \\textcolor{ct}{in} \\textcolor{ct}{various} \\textcolor{ct}{places} \\textcolor{ct}{in} \\textcolor{pt}{the} \\textcolor{ct}{last} \\textcolor{ct}{few} \\textcolor{ct}{decades} \\textcolor{ct}{John} \\textcolor{ct}{Gordon} \\textcolor{ct}{Mein} \\textcolor{cthd}{was} \\textcolor{ct}{shot} \\textcolor{cthd}{and} \\textcolor{cthd}{fell} \\textcolor{lm}{to} \\textcolor{lm}{the} \\textcolor{lm}{ground} \\textcolor{ct}{about} \\textcolor{ct}{12} \\textcolor{ct}{yards} \\textcolor{ct}{behind} \\textcolor{ct}{his} \\textcolor{ct}{limousine} \\textcolor{lm}{Cleo} \\textcolor{ct}{Noel} \\textcolor{cthd}{Jr.} \\textcolor{cthd}{the} \\textcolor{ct}{U.S} \n\n \\textcolor{cthd}{Mr} \\textcolor{ct}{Danczuk} \\textcolor{ct}{has} \\textcolor{ct}{been} \\textcolor{ct}{accused} \\textcolor{lm}{of} \\textcolor{cthd}{using} \\textcolor{lm}{his} \\textcolor{cthd}{phone} \\textcolor{lm}{to} \\textcolor{ct}{send} \\textcolor{cthd}{out} \\textcolor{ct}{a} \\textcolor{ct}{series} \\textcolor{lm}{of} \\textcolor{cthd}{tweets} \\textcolor{cthd}{The} \\textcolor{ct}{tweets} \\textcolor{ct}{were} \\textcolor{cthd}{in} \\textcolor{ct}{response} \\textcolor{lm}{to} \\textcolor{lm}{a} \\textcolor{cthd}{petition} \\textcolor{ct}{calling} \\textcolor{lm}{for} \\textcolor{cthd}{him} \\textcolor{lm}{to} \\textcolor{lm}{be} \\textcolor{ct}{stripped} \\textcolor{lm}{of} \\textcolor{lm}{his} \\textcolor{cthd}{knighthood} \\textcolor{lm}{The} \\textcolor{lm}{petition} \\textcolor{ct}{also} \\textcolor{ct}{called} \\textcolor{lm}{for} \\textcolor{lm}{Mr} \\textcolor{lm}{D} \n\n \\textcolor{ct}{Sarah} \\textcolor{ct}{Stage} \\textcolor{ct}{a} \\textcolor{ct}{Los} \\textcolor{lm}{Angeles} \\textcolor{pt}{based} \\textcolor{cthd}{lingerie} \\textcolor{pt}{model} \\textcolor{lm}{has} \\textcolor{lm}{been} \\textcolor{ct}{documenting} \\textcolor{lm}{her} \\textcolor{ct}{changing} \\textcolor{ct}{pregnancy} \\textcolor{ct}{body} \\textcolor{ct}{and} \\textcolor{cthd}{many} \\textcolor{pt}{of} \\textcolor{lm}{her} \\textcolor{cthd}{1.1} \\textcolor{ct}{m} \\textcolor{cthd}{Instagram} \\textcolor{lm}{followers} \\textcolor{cthd}{can} \\textcolor{ct}{not} \\textcolor{ct}{believe} \\textcolor{ct}{she} \\textcolor{ct}{is} \\textcolor{ct}{eight} \\textcolor{lm}{months} \\textcolor{lm}{pregnant} \\textcolor{lm}{As} \\textcolor{ct}{her} \\textcolor{cthd}{pregnancy} \\textcolor{ct}{has} \\textcolor{ct}{progressed} \\textcolor{ct}{more} \\textcolor{ct}{and} \\textcolor{lm}{more} \\textcolor{ct}{people} \n\n \\textcolor{ct}{The} \\textcolor{cthd}{Bill} \\textcolor{ct}{Hillary} \\textcolor{ct}{Chelsea} \\textcolor{lm}{Clinton} \\textcolor{ct}{Foundation} \\textcolor{ct}{is} \\textcolor{cthd}{a} \\textcolor{cthd}{multibillion} \\textcolor{lm}{dollar} \\textcolor{cthd}{charity} \\textcolor{cthd}{Some} \\textcolor{lm}{of} \\textcolor{lm}{the} \\textcolor{ct}{foundation} \\textcolor{lm}{'s} \\textcolor{ct}{donors} \\textcolor{ct}{have} \\textcolor{cthd}{abysmal} \\textcolor{ct}{human} \\textcolor{ct}{rights} \\textcolor{lm}{records} \\textcolor{lm}{With} \\textcolor{ct}{350} \\textcolor{ct}{employees} \\textcolor{cthd}{spread} \\textcolor{lm}{across} \\textcolor{ct}{180} \\textcolor{ct}{nations} \\textcolor{cthd}{running} \\textcolor{cthd}{the} \\textcolor{cthd}{foundation} \\textcolor{lm}{is} \\textcolor{cthd}{an} \\textcolor{ct}{expensive} \\textcolor{ct}{proposition} \n\n \\textcolor{cthd}{Dwynwen} \\textcolor{ct}{and} \\textcolor{cthd}{Iola} \\textcolor{ct}{Roberts} \\textcolor{ct}{were} \\textcolor{ct}{due} \\textcolor{ct}{to} \\textcolor{ct}{give} \\textcolor{lm}{birth} \\textcolor{cthd}{on} \\textcolor{ct}{the} \\textcolor{ct}{same} \\textcolor{lm}{day} \\textcolor{cthd}{The} \\textcolor{ct}{sisters} \\textcolor{ct}{from} \\textcolor{ct}{Llangernyw} \\textcolor{cthd}{North} \\textcolor{cthd}{Wales} \\textcolor{cthd}{were} \\textcolor{cthd}{induced} \\textcolor{ct}{on} \\textcolor{ct}{February} \\textcolor{ct}{19} \\textcolor{ct}{Neither} \\textcolor{cthd}{knew} \\textcolor{cthd}{they} \\textcolor{lm}{were} \\textcolor{lm}{due} \\textcolor{ct}{at} \\textcolor{lm}{the} \\textcolor{lm}{same} \\textcolor{lm}{time} \n\n \\textcolor{cthd}{Chicago} \\textcolor{cthd}{based} \\textcolor{ct}{Jason} \\textcolor{ct}{Lazarus} \\textcolor{ct}{39} \\textcolor{ct}{began} \\textcolor{ct}{the} \\textcolor{ct}{project} \\textcolor{lm}{–} \\textcolor{ct}{an} \\textcolor{ct}{online} \\textcolor{ct}{archive} \\textcolor{ct}{called} \\textcolor{ct}{T.H.T.K} \\textcolor{ct}{or} \\textcolor{ct}{Too} \\textcolor{ct}{Hard} \\textcolor{ct}{To} \\textcolor{ct}{Keep} \\textcolor{pt}{in} \\textcolor{ct}{2010} \\textcolor{cthd}{It} \\textcolor{cthd}{now} \\textcolor{lm}{has} \\textcolor{ct}{over} \\textcolor{ct}{150} \\textcolor{ct}{photographs} \\textcolor{ct}{that} \\textcolor{ct}{include} \\textcolor{ct}{a} \\textcolor{ct}{huge} \\textcolor{ct}{range} \\textcolor{lm}{of} \\textcolor{ct}{scenes} \n\n \\textcolor{ct}{Randall} \\textcolor{cthd}{Miller} \\textcolor{ct}{pleaded} \\textcolor{lm}{guilty} \\textcolor{lm}{to} \\textcolor{ct}{involuntary} \\textcolor{lm}{manslaughter} \\textcolor{ct}{and} \\textcolor{ct}{criminal} \\textcolor{ct}{trespass} \\textcolor{ct}{Miller} \\textcolor{cthd}{will} \\textcolor{cthd}{spend} \\textcolor{ct}{two} \\textcolor{ct}{years} \\textcolor{cthd}{behind} \\textcolor{lm}{bars} \\textcolor{ct}{and} \\textcolor{cthd}{then} \\textcolor{ct}{serve} \\textcolor{ct}{eight} \\textcolor{lm}{years} \\textcolor{ct}{of} \\textcolor{pt}{probation} \\textcolor{lm}{He} \\textcolor{cthd}{was} \\textcolor{ct}{also} \\textcolor{ct}{ordered} \\textcolor{lm}{to} \\textcolor{lm}{pay} \\textcolor{ct}{20,000} \\textcolor{ct}{in} \\textcolor{ct}{fines} \\textcolor{ct}{and} \\textcolor{cthd}{perform} \\textcolor{ct}{360} \\textcolor{lm}{hours} \\textcolor{lm}{of} \\textcolor{lm}{community} \\textcolor{lm}{service} \n\n \\textcolor{cthd}{The} \\textcolor{cthd}{16-year} \\textcolor{lm}{old} \\textcolor{ct}{named} \\textcolor{ct}{locally} \\textcolor{lm}{as} \\textcolor{ct}{Mitchell} \\textcolor{ct}{Rodgers} \\textcolor{ct}{had} \\textcolor{ct}{just} \\textcolor{ct}{been} \\textcolor{ct}{spoken} \\textcolor{lm}{to} \\textcolor{lm}{by} \\textcolor{ct}{officers} \\textcolor{cthd}{who} \\textcolor{ct}{were} \\textcolor{ct}{continuing} \\textcolor{ct}{to} \\textcolor{ct}{follow} \\textcolor{ft}{him'from} \\textcolor{ct}{a} \\textcolor{ct}{distance} \\textcolor{ct}{away} \\textcolor{cthd}{He} \\textcolor{cthd}{was} \\textcolor{ct}{hit} \\textcolor{lm}{by} \\textcolor{lm}{a} \\textcolor{ct}{passing} \\textcolor{ct}{train} \\textcolor{ct}{near} \\textcolor{ct}{Belper} \\textcolor{ct}{Railway} \\textcolor{ct}{Station} \\textcolor{ct}{in} \\textcolor{ct}{Derbys} \n\n \\textcolor{ct}{Cassandra} \\textcolor{cthd}{C.} \\textcolor{cthd}{as} \\textcolor{ct}{she} \\textcolor{ct}{is} \\textcolor{ct}{identified} \\textcolor{ct}{in} \\textcolor{ct}{court} \\textcolor{ct}{papers} \\textcolor{ct}{was} \\textcolor{ct}{diagnosed} \\textcolor{lm}{with} \\textcolor{ct}{Hodgkin} \\textcolor{pt}{lymphoma} \\textcolor{lm}{in} \\textcolor{ct}{September} \\textcolor{cthd}{Doctors} \\textcolor{cthd}{gave} \\textcolor{lm}{her} \\textcolor{ct}{an} \\textcolor{ct}{85} \\textcolor{ct}{chance} \\textcolor{lm}{of} \\textcolor{lm}{survival} \\textcolor{ct}{if} \\textcolor{ct}{treated} \\textcolor{ct}{with} \\textcolor{ct}{chemotherapy} \\textcolor{lm}{After} \\textcolor{cthd}{two} \\textcolor{ct}{days} \\textcolor{ct}{of} \\textcolor{lm}{chemotherapy} \\textcolor{cthd}{in} \\textcolor{ct}{November} \\textcolor{ct}{Cassandra} \\textcolor{ct}{ran} \n\n \\textcolor{cthd}{David} \\textcolor{cthd}{Nicholson} \\textcolor{ct}{48} \\textcolor{cthd}{allegedly} \\textcolor{ct}{used} \\textcolor{ct}{his} \\textcolor{ct}{school} \\textcolor{ct}{email} \\textcolor{cthd}{address} \\textcolor{lm}{to} \\textcolor{ct}{contact} \\textcolor{ct}{an} \\textcolor{ct}{£} \\textcolor{ct}{150-an} \\textcolor{ct}{hour} \\textcolor{ct}{escort} \\textcolor{ct}{through} \\textcolor{ct}{an} \\textcolor{ct}{adult} \\textcolor{ct}{website} \\textcolor{cthd}{It} \\textcolor{cthd}{is} \\textcolor{ct}{claimed} \\textcolor{pt}{he} \\textcolor{ct}{sent} \\textcolor{cthd}{explicit} \\textcolor{lm}{messages} \\textcolor{ct}{saying} \\textcolor{ct}{he} \\textcolor{ct}{was'keen'on} \\textcolor{cthd}{her} \\textcolor{ct}{dressing} \\textcolor{ct}{up} \\textcolor{cthd}{like} \\textcolor{lm}{a} \\textcolor{ct}{pupil} \n\n \\textcolor{ct}{Liam} \\textcolor{cthd}{Hemsworth} \\textcolor{cthd}{has} \\textcolor{ct}{also} \\textcolor{ct}{been} \\textcolor{ct}{cast} \\textcolor{lm}{in} \\textcolor{ct}{a} \\textcolor{ct}{lead} \\textcolor{lm}{role} \\textcolor{cthd}{and} \\textcolor{ct}{Jeff} \\textcolor{ct}{Goldblum} \\textcolor{ct}{will} \\textcolor{ct}{reprise} \\textcolor{lm}{his} \\textcolor{lm}{role} \\textcolor{lm}{as} \\textcolor{ct}{David} \\textcolor{ct}{Levinson} \\textcolor{cthd}{Will} \\textcolor{ct}{Smith} \\textcolor{cthd}{'s} \\textcolor{ct}{role} \\textcolor{ft}{in} \\textcolor{lm}{the} \\textcolor{ct}{first} \\textcolor{ct}{blockbuster} \\textcolor{ct}{helped} \\textcolor{ct}{establish} \\textcolor{ct}{him} \\textcolor{lm}{as} \\textcolor{lm}{a} \\textcolor{ct}{star} \\textcolor{ct}{kicking} \\textcolor{ct}{his} \\textcolor{lm}{career} \\textcolor{ct}{up} \\textcolor{ct}{to} \n\n \\textcolor{ct}{Erik} \\textcolor{cthd}{Johansson} \\textcolor{ct}{30} \\textcolor{ct}{who} \\textcolor{ct}{is} \\textcolor{ct}{based} \\textcolor{lm}{in} \\textcolor{ct}{Berlin} \\textcolor{ct}{Germany} \\textcolor{cthd}{says} \\textcolor{lm}{he} \\textcolor{cthd}{does} \\textcolor{ct}{n’t} \\textcolor{ct}{capture} \\textcolor{ct}{moments} \\textcolor{lm}{but} \\textcolor{ct}{instead} \\textcolor{ct}{captures} \\textcolor{ct}{ideas} \\textcolor{ct}{He} \\textcolor{cthd}{takes} \\textcolor{ct}{mundane} \\textcolor{ct}{scenarios} \\textcolor{ct}{including} \\textcolor{ct}{houses} \\textcolor{ct}{cars} \\textcolor{ct}{and} \\textcolor{ct}{streets} \\textcolor{pt}{and} \\textcolor{ct}{transforms} \\textcolor{lm}{them} \\textcolor{lm}{into} \\textcolor{ct}{optical} \\textcolor{lm}{illusions} \n\n \\textcolor{ct}{The} \\textcolor{cthd}{Airbus} \\textcolor{lm}{A330} \\textcolor{ct}{200} \\textcolor{ct}{was} \\textcolor{ct}{flying} \\textcolor{ct}{from} \\textcolor{ct}{Beijing} \\textcolor{lm}{to} \\textcolor{ct}{Hong} \\textcolor{lm}{Kong} \\textcolor{ct}{when} \\textcolor{lm}{the} \\textcolor{ct}{airline} \\textcolor{ct}{received} \\textcolor{ct}{a} \\textcolor{ct}{report} \\textcolor{ct}{that} \\textcolor{ct}{there} \\textcolor{ct}{could} \\textcolor{lm}{be} \\textcolor{pt}{a} \\textcolor{ct}{bomb} \\textcolor{pt}{on} \\textcolor{lm}{board} \\textcolor{ct}{The} \\textcolor{ct}{security} \\textcolor{ct}{scare} \\textcolor{ct}{occurred} \\textcolor{ct}{as} \\textcolor{lm}{the} \\textcolor{ct}{National} \\textcolor{ct}{People} \\textcolor{ct}{’s} \\textcolor{pt}{Congress} \\textcolor{ct}{a} \\textcolor{ct}{national} \\textcolor{ct}{legislature} \\textcolor{cthd}{comprised} \\textcolor{pt}{of} \\textcolor{ct}{nearly} \n\n \\textcolor{ct}{Wife} \\textcolor{ct}{of} \\textcolor{cthd}{Labour} \\textcolor{ct}{leader} \\textcolor{ct}{Ed} \\textcolor{lm}{Miliband} \\textcolor{cthd}{gave} \\textcolor{ct}{birth} \\textcolor{lm}{to} \\textcolor{cthd}{their} \\textcolor{cthd}{first} \\textcolor{lm}{child} \\textcolor{ct}{last} \\textcolor{ct}{year} \\textcolor{cthd}{The} \\textcolor{cthd}{couple} \\textcolor{cthd}{have} \\textcolor{ct}{been} \\textcolor{ct}{married} \\textcolor{lm}{for} \\textcolor{cthd}{more} \\textcolor{lm}{than} \\textcolor{lm}{a} \\textcolor{lm}{decade} \\textcolor{lm}{They} \\textcolor{lm}{have} \\textcolor{ct}{a} \\textcolor{cthd}{second} \\textcolor{cthd}{child} \\textcolor{lm}{a} \\textcolor{lm}{daughter} \\textcolor{cthd}{who} \\textcolor{lm}{was} \\textcolor{lm}{born} \\textcolor{lm}{in} \\textcolor{cthd}{2011} \\textcolor{lm}{The} \\textcolor{lm}{mother} \\textcolor{lm}{of-} \n\n \\textcolor{ct}{The} \\textcolor{cthd}{swarm} \\textcolor{ct}{of} \\textcolor{ct}{nearly} \\textcolor{ct}{1,000} \\textcolor{ct}{angry} \\textcolor{pt}{bees} \\textcolor{cthd}{descended} \\textcolor{lm}{on} \\textcolor{cthd}{the}\n"
     ]
    }
   ],
   "source": [
    "total_num=0\n",
    "max_num = 3000\n",
    "outs = []\n",
    "last_uid = \"\"\n",
    "for label, content in data.iterrows():\n",
    "    x = content['lm_full']\n",
    "    xback = content['imp_cnn_full']\n",
    "    x = min(xback,x)\n",
    "    if  math.isnan(x):\n",
    "        continue\n",
    "    y = content['imp_full']\n",
    "    token = content['token']\n",
    "    uid = content['id']\n",
    "    t = content['t']\n",
    "    if uid != last_uid:\n",
    "        outs.append('\\n\\n')\n",
    "        last_uid = uid\n",
    "    if x<0.5 and y< 0.5:\n",
    "        l = 'lm'\n",
    "    elif x>0.5 and y > 0.5:\n",
    "        l = 'ct'\n",
    "    elif x<0.5 and y >1.5:\n",
    "        l = 'pt'\n",
    "    elif x>1.5 and y <0.5:\n",
    "        l = 'ft'\n",
    "    if content['easy'] == False:\n",
    "        l = 'cthd'\n",
    "    out = latex_color(l, token)\n",
    "    outs.append(out)\n",
    "    total_num += 1\n",
    "    if total_num > max_num:\n",
    "        break\n",
    "print(\" \".join(outs))"
   ]
  },
  {
   "cell_type": "code",
   "execution_count": null,
   "metadata": {},
   "outputs": [],
   "source": []
  }
 ]
}