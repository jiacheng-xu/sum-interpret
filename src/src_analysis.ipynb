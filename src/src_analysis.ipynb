{
 "metadata": {
  "language_info": {
   "codemirror_mode": {
    "name": "ipython",
    "version": 3
   },
   "file_extension": ".py",
   "mimetype": "text/x-python",
   "name": "python",
   "nbconvert_exporter": "python",
   "pygments_lexer": "ipython3",
   "version": "3.8.3-final"
  },
  "orig_nbformat": 2,
  "kernelspec": {
   "name": "python3",
   "display_name": "Python 3",
   "language": "python"
  }
 },
 "nbformat": 4,
 "nbformat_minor": 2,
 "cells": [
  {
   "cell_type": "code",
   "execution_count": 8,
   "metadata": {
    "tags": []
   },
   "outputs": [
    {
     "output_type": "stream",
     "name": "stdout",
     "text": [
      "/home/jcxu\n"
     ]
    }
   ],
   "source": [
    "import pandas as pd\n",
    "import csv\n",
    "import os\n",
    "print(os.getcwd())\n",
    "all_data = []\n",
    "with open('sum-interpret/output_fast.csv', newline='') as csvfile:\n",
    "    spamreader = csv.reader(csvfile, delimiter=',',)\n",
    "    for row in spamreader:\n",
    "        if row[-3] == '0':\n",
    "            continue\n",
    "        all_data.append(row)\n",
    "import numpy as np\n"
   ]
  },
  {
   "cell_type": "code",
   "execution_count": 9,
   "metadata": {
    "tags": [
     "outputPrepend"
    ]
   },
   "outputs": [
    {
     "output_type": "stream",
     "name": "stdout",
     "text": [
      "3', '0.696097151376307', '[0.007902410812675953, 0.011749180033802986, 0.0, 0.0, 0.0, 0.09306756407022476, 0.7971991896629333, 0.0, 0.0]', '[\"Opposition lawmakers tried to block discussions on the introduction of manual vote-counting for next year\\'s presidential election.\", \\'The government wants a back-up to the electronic system but the opposition says it is a way of rigging the poll.\\', \\'Kenyan politics is known to be highly partisan and this is not the first physical fight.\\', \\'In 2014, four lawmakers were assaulted and one had his shirt torn.\\', \\'Africa Live: BBC news updates\\', \\'The live video feed from parliament was cut after the fight broke out on Tuesday evening and journalists were ordered out of the press gallery.\\', \\'After an earlier highly charged discussion over the proposed changes to the electoral law, opposition MP Millie Odhiambo attacked President Uhuru Kenyatta, calling him \"extremely stupid\".\\', \\'Mr Kenyatta gave his initial response to that attack at an event to usher in the festive season, saying \"some idiots continue to insult me\" but added that it was part of their freedom.\\', \\'But Mr Kenyatta seems to have now ended his war of words with Ms Odhiambo, as a local media station on Wednesday shared a picture of a Christmas card from the president addressed to the MP.\\']', \"[('0.35', 'Rail'), ('0.26', 'Ġ'), ('0.15', 'President'), ('0.13', 'News'), ('0.11', 'National')]\", \"[('0.66', 'President'), ('0.12', 'president'), ('0.07', 'Ġauthorities'), ('0.07', 'leader'), ('0.06', 'Prime')]\", \"[('0.33', 'ĠMPs'), ('0.22', 'Ġopposition'), ('0.17', 'President'), ('0.12', 'Ġlawmakers'), ('0.06', 'police')]\", \"[('0.20', 'an'), ('0.17', 'than'), ('0.17', 'yan'), ('0.16', 'ne'), ('0.08', 'ja')]\", \"[('nan', '<pad>'), ('nan', '<s>'), ('nan', '</s>'), ('nan', '.'), ('nan', '<unk>')]\", \"[('0.19', 'Ġlawmakers'), ('0.14', 'MP'), ('0.14', 'President'), ('0.12', 'Ġopposition'), ('0.09', 'Ġparliament')]\", '0.0', 'PROPN', 'President', '1', '20', 'Kenyan ']\n3845\n"
     ]
    }
   ],
   "source": [
    "key = all_data[0]\n",
    "data = all_data[1:]\n",
    "import statistics\n",
    "import random\n",
    "print(key)\n",
    "print(data[0])\n",
    "print(len(data))\n",
    "\n",
    "import seaborn as sns\n",
    "\n",
    "import matplotlib.colors as mcolors\n",
    "\n",
    "colors =[ 'b', 'g', 'r', 'c', 'm', 'y', 'k', 'w']\n",
    "colors = mcolors.TABLEAU_COLORS\n"
   ]
  },
  {
   "cell_type": "code",
   "execution_count": 18,
   "metadata": {},
   "outputs": [],
   "source": [
    "import logging\n",
    "from datetime import datetime\n",
    "now = datetime.now()\n",
    "logger = logging.getLogger('sum')\n",
    "logger.setLevel(logging.DEBUG)\n",
    "# create file handler which logs even debug messages\n",
    "fh = logging.FileHandler(f\"output_{now.strftime('%m')}{now.strftime('%d')}.log\")\n",
    "fh.setLevel(logging.DEBUG)\n",
    "# create console handler with a higher log level\n",
    "ch = logging.StreamHandler()\n",
    "ch.setLevel(logging.INFO)\n",
    "# create formatter and add it to the handlers\n",
    "formatter = logging.Formatter('%(levelname)s - %(message)s')\n",
    "ch.setFormatter(formatter)\n",
    "fh.setFormatter(formatter)\n",
    "# add the handlers to logger\n",
    "logger.addHandler(ch)\n",
    "logger.addHandler(fh)"
   ]
  },
  {
   "cell_type": "code",
   "execution_count": 19,
   "metadata": {
    "tags": [
     "outputPrepend"
    ]
   },
   "outputs": [
    {
     "output_type": "stream",
     "name": "stderr",
     "text": [
      " solution is to deploy more vigilante groups.\n",
      "INFO - 9\tOne Borno state official suggests the only solution is to deploy more vigilante groups.\n",
      "INFO - 9\tOne Borno state official suggests the only solution is to deploy more vigilante groups.\n",
      "INFO - 9\tOne Borno state official suggests the only solution is to deploy more vigilante groups.\n",
      "INFO - 9\tOne Borno state official suggests the only solution is to deploy more vigilante groups.\n",
      "INFO - 10\tThe mosque attack happened during dawn prayers on Sunday, although news only emerged on Monday, as communications have been disrupted by the state of emergency.\n",
      "INFO - 10\tThe mosque attack happened during dawn prayers on Sunday, although news only emerged on Monday, as communications have been disrupted by the state of emergency.\n",
      "INFO - 10\tThe mosque attack happened during dawn prayers on Sunday, although news only emerged on Monday, as communications have been disrupted by the state of emergency.\n",
      "INFO - 10\tThe mosque attack happened during dawn prayers on Sunday, although news only emerged on Monday, as communications have been disrupted by the state of emergency.\n",
      "INFO - 10\tThe mosque attack happened during dawn prayers on Sunday, although news only emerged on Monday, as communications have been disrupted by the state of emergency.\n",
      "INFO - 11\tIt took place in the town of Konduga, 35km (22 miles) from the Borno state capital, Maiduguri, where Boko Haram was established in 2002, launching its first attack seven years later.\n",
      "INFO - 11\tIt took place in the town of Konduga, 35km (22 miles) from the Borno state capital, Maiduguri, where Boko Haram was established in 2002, launching its first attack seven years later.\n",
      "IOPub message rate exceeded.\n",
      "The notebook server will temporarily stop sending output\n",
      "to the client in order to avoid crashing it.\n",
      "To change this limit, set the config variable\n",
      "`--NotebookApp.iopub_msg_rate_limit`.\n",
      "\n",
      "Current values:\n",
      "NotebookApp.iopub_msg_rate_limit=1000.0 (msgs/sec)\n",
      "NotebookApp.rate_limit_window=3.0 (secs)\n",
      "\n"
     ]
    }
   ],
   "source": [
    "dict_pos = {}\n",
    "\n",
    "\n",
    "def pnum(num):\n",
    "    return \"{:.2f}\".format(num)\n",
    "\n",
    "\n",
    "index_of_pos = key.index('pos')\n",
    "index_of_prefix=key.index('prefix')\n",
    "# index_of_full2lm = key.index('full_lm')\n",
    "# index_of_lm2full = key.index('lm_full')\n",
    "\n",
    "index_of_lm2imp = key.index('lm_imp')\n",
    "# index_of_imp2lm = key.index('imp2lm')\n",
    "\n",
    "index_of_impood2imp = key.index('imp_cnn_imp')\n",
    "\n",
    "\n",
    "index_of_imp2full = key.index('imp_full')\n",
    "# index_of_full2imp = key.index('full2imp')\n",
    "\n",
    "\n",
    "index_of_tok = key.index('tok')\n",
    "index_of_domain = key.index('domain_rate')\n",
    "index_of_pert_top = key.index('pert_top')\n",
    "index_of_pert_var = key.index('pert_var')\n",
    "index_of_pert_distb = key.index('pert_distb')\n",
    "index_of_pert_sents=key.index('pert_sents')\n",
    "# 'top_lm', 'top_imp', 'top_full', 'top_impood', 'top_fullood', 'top_attn'\n",
    "index_top_lm = key.index('top_lm')\n",
    "index_top_imp = key.index('top_imp')\n",
    "index_top_full = key.index('top_full')\n",
    "index_top_imp_cnn = key.index('top_impood')\n",
    "# index_top_lm = key.index('top_lm')\n",
    "index_top_attn = key.index('top_attn')\n",
    "\n",
    "\n",
    "# xaxis = index_of_lm2imp\n",
    "xaxis = index_of_impood2imp\n",
    "\n",
    "x = []\n",
    "y = []\n",
    "list_pos = []\n",
    "domain = []\n",
    "pert_top = []\n",
    "pert_var = []\n",
    "pert_distb = []\n",
    "pert_sents = []\n",
    "distb_lm, distb_imp, distb_full, dist_imp_cnn, dist_attn = [],[],[],[],[]\n",
    "cnt = 0\n",
    "d_color = {}\n",
    "for d in data:\n",
    "\n",
    "    pos = d[index_of_pos]\n",
    "    # print(d)\n",
    "    if d[index_of_imp2full] == '' or d[xaxis] == \"\" or d[index_of_lm2imp] == \"\":\n",
    "        print('emtpy!')\n",
    "        continue\n",
    "    x_value = min(float(d[xaxis]),float(d[index_of_lm2imp]))\n",
    "    y_value = float(d[index_of_imp2full])\n",
    "    if x_value > 1.5 and y_value <0.5:\n",
    "        pass\n",
    "    else:\n",
    "        continue\n",
    "    # if v_lm2imp >1.5 and v_imp2full< 0.5:\n",
    "        # print(d[-4:])\n",
    "    # if v_lm2imp>6.1 or v_imp2full>9.7:\n",
    "        # continue\n",
    "    logger.info(f\"x:{pnum(x_value)}\\ty:{pnum(y_value)}\\tprefix:{d[index_of_prefix]}\\ttoken:{d[index_of_tok]}\")\n",
    "    sents = eval(d[index_of_pert_sents])\n",
    "    for idx, s in enumerate(sents):\n",
    "        logger.info(f\"{idx}\\t{s}\")\n",
    "    logger.info(f\"LM: {eval(d[index_top_lm])}\")\n",
    "    logger.info(f\"IMP: {eval(d[index_top_imp])}\")\n",
    "    logger.info(f\"FULL: {eval(d[index_top_full])}\")\n",
    "    logger.info(f\"IMP OOD: {eval(d[index_top_imp_cnn])}\")\n",
    "    _pert_dist = eval(d[index_of_pert_distb])\n",
    "    _pert_dist = [float(m) for m in _pert_dist]\n",
    "    logger.info(f\"pert_var:{pnum(float(d[index_of_pert_var]))}\\tpert:{pnum(statistics.mean(_pert_dist))}\")\n",
    "    logger.info(f\"pert:{[pnum(m) for m in _pert_dist]}\")\n",
    "\n",
    "    x.append(x_value)\n",
    "    y.append(y_value)\n",
    "    list_pos.append(pos)\n",
    "    domain.append(float(d[index_of_domain]))\n",
    "    pert_top.append(float(d[index_of_pert_top]))\n",
    "    pert_var.append(float(d[index_of_pert_var]))\n",
    "    pert_distb.append(eval(d[index_of_pert_distb]))\n",
    "    pert_sents.append(eval(d[index_of_pert_sents]))\n",
    "    distb_lm.append(eval(d[index_top_lm]))\n",
    "    distb_imp.append(eval(d[index_top_imp]))\n",
    "    distb_full.append(eval(d[index_top_full]))\n",
    "    dist_imp_cnn.append(eval(d[index_top_imp_cnn]))\n",
    "    dist_attn.append(eval(d[index_top_attn]))\n",
    "\n",
    "    logger.info('\\n')\n",
    "from statistics import quantiles\n",
    "\n",
    "def show_quantiles(var):\n",
    "    # print(f\"{var}\")\n",
    "    print([round(q, 1) for q in quantiles(var, n=10)])\n",
    "show_quantiles(x)\n",
    "show_quantiles(y)\n"
   ]
  },
  {
   "cell_type": "code",
   "execution_count": 17,
   "metadata": {},
   "outputs": [
    {
     "output_type": "stream",
     "name": "stdout",
     "text": [
      "[[1.76092856 0.19958809]]\n2.7719165768131617\n[0 0 0 0 0 0 0 0 0 0 0 0 0 0 0 0 0 0 0 0 0 0 0 0 0 0 0 0 0 0 0 0 0 0 0 0 0\n 0 0 0 0 0 0 0 0 0 0 0 0 0]\n"
     ]
    }
   ],
   "source": [
    "from sklearn.cluster import KMeans\n",
    "inp_kmeans = [[r,c] for r,c in zip(x,y)]\n",
    "inp_kmeans = np.asarray(inp_kmeans)\n",
    "kmeans = KMeans(n_clusters=1, random_state=0).fit(inp_kmeans)\n",
    "print(kmeans.cluster_centers_)\n",
    "print(kmeans.inertia_)\n",
    "labels = kmeans.labels_\n",
    "print(labels)"
   ]
  },
  {
   "cell_type": "code",
   "execution_count": null,
   "metadata": {
    "tags": []
   },
   "outputs": [],
   "source": [
    "import numpy as np\n",
    "import pandas as pd\n",
    "import matplotlib.pyplot as plt\n",
    "\n",
    "\n",
    "fig, axs = plt.subplots(2,2,constrained_layout=True)\n",
    "# fig, ax = plt.subplots()\n",
    "\n",
    "\n",
    "# scatter = ax.scatter(x, y,s=1,c=c)\n",
    "# sns.jointplot(x=x,y=y,hue=domain, kind='scatter',marker=\"+\",marginal_ticks=True)\n",
    "\n",
    "# target = pert_top\n",
    "# target = pert_var\n",
    "target = domain\n",
    "\n",
    "inp_datas = [None,pert_top,pert_var,domain]\n",
    "inp_names = ['none','pert_top','pert_var','domain']\n",
    "# Create a continuous norm to map from data points to colors\n",
    "# lc = LineCollection(segments, cmap='viridis', norm=norm)\n",
    "# Set the values used for colormapping\n",
    "# lc.set_array(dydx)\n",
    "# lc.set_linewidth(2)\n",
    "# line = axs[0].add_collection(lc)\n",
    "\n",
    "# scatter = plt.scatter(x, y,marker='+')\n",
    "\n",
    "def example_plot(ax_use, inp_data,title):\n",
    "    if inp_data == None:\n",
    "        scatter = ax_use.scatter(x, y,s=2)\n",
    "    else:\n",
    "        norm = plt.Normalize(min(inp_data), max(inp_data))\n",
    "        scatter = ax_use.scatter(x, y, c=inp_data,s=2,norm=norm,cmap='RdBu')\n",
    "        fig.colorbar(scatter, ax=ax_use)\n",
    "        ax_use.set_title(title)\n",
    "\n",
    "for idx, ax in enumerate(axs.flat) :\n",
    "    example_plot(ax,inp_data=inp_datas[idx],title=inp_names[idx])\n",
    "\n",
    "\n",
    "\n",
    "# plt.legend(loc='upper left')\n",
    "plt.show()\n"
   ]
  },
  {
   "cell_type": "code",
   "execution_count": null,
   "metadata": {},
   "outputs": [],
   "source": [
    "# project to y\n",
    "import seaborn as sns\n",
    "\n",
    "sns.set_theme(style=\"darkgrid\")\n",
    "\n",
    "nbuckets = 10\n",
    "data_all = [[] for _ in range(nbuckets)]\n",
    "data_pv = [[] for _ in range(nbuckets)]\n",
    "data_dom = [[] for _ in range(nbuckets)]\n",
    "for cor,pt,pv,dom in zip(y,pert_top,pert_var,domain):\n",
    "    cor = min(cor,2)\n",
    "    buc = int(cor // (2/nbuckets))\n",
    "    # print(cor,buc)\n",
    "    data_all[buc].append(1)\n",
    "    data_pv[buc].append(pv)\n",
    "    data_dom[buc].append(dom)\n",
    "\n"
   ]
  },
  {
   "cell_type": "code",
   "execution_count": null,
   "metadata": {},
   "outputs": [],
   "source": [
    "def print_plot(use_data,ax_use,name):\n",
    "    count =[len(bag) for bag in use_data] \n",
    "    mean = [statistics.mean(bag) for bag in use_data]\n",
    "    ax_use.set_title(name)\n",
    "    ax_use.set_xticklabels(range(10))\n",
    "    ax_use.bar(range(nbuckets), mean)\n",
    "\n",
    "    ax_use.set_xlabel('0.    IMP->FULL     2.')\n",
    "    # ax_use.lineplot(x=range(nbuckets), y=count,title=\"Count\")\n",
    "    # plt.title('Scores by group and gender')\n",
    "targets = [data_all, data_all,data_pv,data_dom ]\n",
    "inp_names = ['none','none','pert_var','domain']\n",
    "fig, axs = plt.subplots(2,2,constrained_layout=True)\n",
    "\n",
    "for idx, ax in enumerate(axs.flat) :\n",
    "    print_plot(targets[idx],ax,inp_names[idx])\n",
    "fig.suptitle('Mean')"
   ]
  },
  {
   "cell_type": "code",
   "execution_count": null,
   "metadata": {},
   "outputs": [],
   "source": [
    "def print_plot(use_data,ax_use,name):\n",
    "    count =[len(bag) for bag in use_data] \n",
    "    mean = [statistics.mean(bag) for bag in use_data]\n",
    "    ax_use.set_title(name)\n",
    "    ax_use.set_xticklabels(range(10))\n",
    "    ax_use.bar(range(nbuckets), count)\n",
    "    # ax_use.lineplot(x=range(nbuckets), y=count,title=\"Count\")\n",
    "    # plt.title('Scores by group and gender')\n",
    "targets = [data_all, data_all,data_pv,data_dom ]\n",
    "inp_names = ['none','none','pert_var','domain']\n",
    "fig, axs = plt.subplots(2,2,constrained_layout=True)\n",
    "\n",
    "for idx, ax in enumerate(axs.flat) :\n",
    "    print_plot(targets[idx],ax,inp_names[idx])\n",
    "fig.suptitle('Count')"
   ]
  },
  {
   "cell_type": "code",
   "execution_count": null,
   "metadata": {},
   "outputs": [],
   "source": []
  }
 ]
}