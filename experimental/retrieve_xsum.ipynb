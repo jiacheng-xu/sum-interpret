{
 "cells": [
  {
   "cell_type": "code",
   "execution_count": 1,
   "metadata": {
    "collapsed": true
   },
   "outputs": [
    {
     "output_type": "stream",
     "name": "stderr",
     "text": [
      "Using custom data configuration default\n",
      "Reusing dataset xsum (/home/jcxu/.cache/huggingface/datasets/xsum/default/1.2.0/f9abaabb5e2b2a1e765c25417264722d31877b34ec34b437c53242f6e5c30d6d)\n",
      "Dataset({\n",
      "    features: ['document', 'summary', 'id'],\n",
      "    num_rows: 204045\n",
      "})\n"
     ]
    }
   ],
   "source": [
    "from collections import Counter\n",
    "from datasets import load_dataset\n",
    "\n",
    "dataset = load_dataset(\"xsum\")\n",
    "train_set = dataset['train']\n",
    "dev_set = dataset['validation']\n",
    "\n",
    "print(train_set)"
   ]
  },
  {
   "cell_type": "code",
   "execution_count": 2,
   "outputs": [
    {
     "output_type": "stream",
     "name": "stdout",
     "text": [
      "onfidence_in': {'confidence_in_the': 3}, 'during_world': {'during_world_war': 8}, 'the_conduct': {'the_conduct_of': 3}, 'the_chances': {'the_chances_of': 3}, 'of_having': {'of_having_a': 3}, 'association_has': {'association_has_signed': 3}, 'by_five': {'by_five_wickets': 3}, 'a_75': {'a_75_year': 3}, '75_year': {'75_year_old': 3}, 'of_plans': {'of_plans_to': 3}, 'he_turned': {'he_turned_down': 3}, 'nelson_mandela': {'nelson_mandela_s': 3}, 'uk_for': {'uk_for_the': 4}, 'a_visit': {'a_visit_to': 3}, 'to_speak': {'to_speak_to': 3}, 'australian_prime': {'australian_prime_minister': 4}, 'minister_tony': {'minister_tony_abbott': 3}, 'turkish_president': {'turkish_president_recep': 3}, 'president_recep': {'president_recep_tayyip': 4}, 'recep_tayyip': {'recep_tayyip_erdogan': 5}, 'a_football': {'a_football_match': 3}, 'us_federal': {'us_federal_reserve': 4}, 'jury_has': {'jury_has_heard': 4}, 'men_who': {'men_who_were': 3}, 'anti_social': {'anti_social_behaviour': 3}, 's_governing': {'s_governing_body': 4}, 'tata_steel': {'tata_steel_s': 3}, 'wales_have': {'wales_have_been': 6}, 'venezuelan_president': {'venezuelan_president_nicolas': 3}, 'nicolas_maduro': {'nicolas_maduro_has': 3}, 'step_closer': {'step_closer_to': 4, 'step_closer_after': 3}, 'third_time': {'third_time_in': 3}, 'has_reached': {'has_reached_a': 3}, 'us_national': {'us_national_security': 3}, 'look_set': {'look_set_to': 3}, 'with_attempted': {'with_attempted_murder': 5}, 'from_manchester': {'from_manchester_united': 4}, 'the_foot': {'the_foot_of': 3}, 'south_of': {'south_of_scotland': 6}, 'have_launched': {'have_launched_a': 5}, 'investigation_after': {'investigation_after_a': 3}, 'helped_by': {'helped_by_a': 4}, 'new_long': {'new_long_term': 4}, 'by_david': {'by_david_cameron': 3}, 'but_now': {'but_now_it': 3}, 'the_power': {'the_power_to': 3}, 'wicket_victory': {'wicket_victory_over': 3}, 'you_want': {'you_want_to': 3}, 'is_committed': {'is_committed_to': 3}, 'the_serious': {'the_serious_fraud': 3}, 'serious_fraud': {'serious_fraud_office': 3}, 'chair_of': {'chair_of_the': 5}, 'is_failing': {'is_failing_to': 3}, 'the_hands': {'the_hands_of': 5}, 'coach_steve': {'coach_steve_tandy': 3}, 'at_one': {'at_one_of': 3}, 'a_union': {'a_union_has': 5}, 'large_number': {'large_number_of': 3}, 'their_lead': {'their_lead_at': 3}, 'after_receiving': {'after_receiving_a': 3}, 'be_made': {'be_made_to': 3, 'be_made_available': 3}, 'their_super': {'their_super_league': 3}, 'goals_in': {'goals_in_the': 4}, 'life_changing': {'life_changing_injuries': 4}, 'style_of': {'style_of_play': 4}, 'in_rhondda': {'in_rhondda_cynon': 6}, 'rhondda_cynon': {'rhondda_cynon_taff': 7}, 'for_bringing': {'for_bringing_a': 3}, 'move_up': {'move_up_to': 3}, 'of_at': {'of_at_least': 3}, 'the_details': {'the_details_of': 3}, 'in_swansea': {'in_swansea_has': 3}, 'first_woman': {'first_woman_to': 3}, 'amnesty_international': {'amnesty_international_says': 3}, 'staff_at': {'staff_at_a': 6}, 'must_not': {'must_not_be': 3}, 'a_street': {'a_street_in': 4}, 'car_hit': {'car_hit_a': 3}, 'the_verge': {'the_verge_of': 7}, 'first_test': {'first_test_against': 4}, 'is_making': {'is_making_a': 3}, 'as_manager': {'as_manager_of': 3}, 'six_years': {'six_years_as': 4, 'six_years_after': 3, 'six_years_ago': 3}, 'in_los': {'in_los_angeles': 5}, 'their_pension': {'their_pension_pots': 3}, 'people_affected': {'people_affected_by': 4}, 'spoken_about': {'spoken_about_how': 3}, 'team_in': {'team_in_the': 4}, 'a_31': {'a_31_year': 3}, '31_year': {'31_year_old': 3}, 'he_returned': {'he_returned_to': 4}, 'are_searching': {'are_searching_for': 3}, 'the_brother': {'the_brother_of': 8}, 'brother_of': {'brother_of_a': 3}, 'the_driver': {'the_driver_of': 3}, 'driver_of': {'driver_of_a': 3}, 'points_clear': {'points_clear_at': 6}, 'clear_at': {'clear_at_the': 7}, 'the_centre': {'the_centre_of': 18}, 'centre_of': {'centre_of_the': 5, 'centre_of_a': 9}, 'the_inquiry': {'the_inquiry_into': 6}, 'vehicle_crash': {'vehicle_crash_in': 4}, 'are_calls': {'are_calls_for': 3}, 'officer_has': {'officer_has_been': 5}, 'is_determined': {'is_determined_to': 5}, 'mercedes_team': {'mercedes_team_mate': 3}, 'the_performance': {'the_performance_of': 4}, 'said_to': {'said_to_be': 6}, 'are_reported': {'are_reported_to': 3}, 'the_edge': {'the_edge_of': 4}, 'edge_of': {'edge_of_the': 3}, 'the_olympic': {'the_olympic_games': 4}, 'be_closed': {'be_closed_to': 3}, 'day_four': {'day_four_at': 3}, 'birth_to': {'birth_to_her': 3}, 'supposed_to': {'supposed_to_be': 3}, 'champion_andy': {'champion_andy_murray': 3}, 'torquay_united': {'torquay_united_have': 3}, 'london_mayor': {'london_mayor_sadiq': 3}, 'position_on': {'position_on_the': 3}, 'vote_to': {'vote_to_leave': 6}, 'air_strike': {'air_strike_in': 3}, 'take_more': {'take_more_than': 3}, 'the_activities': {'the_activities_of': 3}, 'each_day': {'each_day_we': 4}, 'day_we': {'day_we_feature': 4}, 'we_feature': {'we_feature_a': 4}, 'feature_a': {'feature_a_photograph': 4}, 'photograph_sent': {'photograph_sent_in': 4}, 'sent_in': {'sent_in_from': 4}, 'in_from': {'in_from_across': 4}, 'from_across': {'from_across_england': 4}, 'captain_eoin': {'captain_eoin_morgan': 3}, 'against_new': {'against_new_zealand': 3}, 'increase_in': {'increase_in_the': 3}, 'the_cannes': {'the_cannes_film': 4}, 'wales_cricket': {'wales_cricket_board': 5}, 'footage_has': {'footage_has_been': 3}, 'been_rescued': {'been_rescued_from': 6}, 'the_america': {'the_america_s': 4}, 'america_s': {'america_s_cup': 4}, 'being_asked': {'being_asked_to': 5}, 'two_second': {'two_second_half': 3}, 'the_rogers': {'the_rogers_cup': 4}, 'getting_stuck': {'getting_stuck_in': 3}, 'by_europe': {'by_europe_s': 3}, 'be_selected': {'be_selected_for': 3}, 'selected_for': {'selected_for_the': 4}, 'the_chair': {'the_chair_of': 8}, 'the_assembly': {'the_assembly_election': 3}, 'golden_state': {'golden_state_warriors': 3}, 'took_a': {'took_a_big': 3}, 'the_nba': {'the_nba_finals': 3}, 'have_decided': {'have_decided_not': 3}, 'leader_has': {'leader_has_said': 4}, 'care_in': {'care_in_england': 4}, 'president_hosni': {'president_hosni_mubarak': 3}, 'urging_people': {'urging_people_to': 3}, 'footballer_adam': {'footballer_adam_johnson': 3}, '46_year': {'46_year_old': 4}, 'be_banned': {'be_banned_from': 4}, 'our_series': {'our_series_of': 5}, 'from_african': {'from_african_journalists': 5}, 'a_wrist': {'a_wrist_injury': 4}, 'the_purchase': {'the_purchase_of': 3}, 'public_health': {'public_health_england': 4}, 'are_growing': {'are_growing_for': 3}, 'of_trying': {'of_trying_to': 3}, 'a_surge': {'a_surge_in': 3}, 'the_migrant': {'the_migrant_crisis': 4}, 'arlene_foster': {'arlene_foster_has': 4}, 'baby_was': {'baby_was_found': 3}, 'being_closed': {'being_closed_for': 3}, 'for_almost': {'for_almost_three': 3}, 'the_brecon': {'the_brecon_beacons': 3}, 'killed_four': {'killed_four_people': 3}, 'a_bronze': {'a_bronze_medal': 3}, 'five_days': {'five_days_after': 3}, 'the_vuelta': {'the_vuelta_a': 3}, 'vuelta_a': {'vuelta_a_espana': 3}, 'for_thursday': {'for_thursday_s': 3}, 's_europa': {'s_europa_league': 3}, 'a_21': {'a_21_year': 5}, '21_year': {'21_year_old': 5}, 'high_levels': {'high_levels_of': 3}, 'leg_of': {'leg_of_their': 3}, 'will_soon': {'will_soon_be': 4}, 'than_150': {'than_150_people': 3}, 'the_weekend': {'the_weekend_s': 3}, 'valentine_s': {'valentine_s_day': 3}, 't_in': {'t_in_the': 4}, 'a_state': {'a_state_of': 4}, 'confirmed_he': {'confirmed_he_is': 3}, 'wing_george': {'wing_george_north': 3}, 'luiz_inacio': {'luiz_inacio_lula': 3}, 'inacio_lula': {'inacio_lula_da': 3}, 'lula_da': {'lula_da_silva': 3}, 'hockey_world': {'hockey_world_league': 3}, 'only_goal': {'only_goal_of': 3}, 'the_scene': {'the_scene_of': 5}, 'a_vale': {'a_vale_of': 3}, 'sainsbury_s': {'sainsbury_s_has': 4}, 'the_relegation': {'the_relegation_zone': 3}, 'the_director': {'the_director_of': 5}, 'yellow_be': {'yellow_be_aware': 3}, 'be_aware': {'be_aware_warning': 3}, 'aware_warning': {'aware_warning_for': 3}, 'with_murdering': {'with_murdering_a': 8}, 'a_46': {'a_46_year': 3}, 'be_fit': {'be_fit_for': 3}, 'a_narrow': {'a_narrow_victory': 4}, 'published_by': {'published_by_the': 3}, 'were_called': {'were_called_to': 4}, 'looks_set': {'looks_set_to': 3}, 's_birthday': {'s_birthday_honours': 3}, 'damage_caused': {'damage_caused_by': 3}, 'announced_he': {'announced_he_is': 3, 'announced_he_will': 4}, 'his_party': {'his_party_s': 3}, 'an_order': {'an_order_for': 3}, 'to_promote': {'to_promote_the': 3}, 'are_on': {'are_on_the': 3}, 'a_straight': {'a_straight_set': 3}, 'the_fight': {'the_fight_against': 3}, 'the_12': {'the_12_months': 4}, 'home_has': {'home_has_been': 3}, 'first_qualifying': {'first_qualifying_round': 3}, 'an_increase': {'an_increase_in': 5}, 'have_sacked': {'have_sacked_manager': 4}, 'claimed_their': {'claimed_their_first': 3}, 'a_step': {'a_step_closer': 7}, 'the_killers': {'the_killers_of': 3}, 'was_accused': {'was_accused_of': 4}, 'record_number': {'record_number_of': 3}, 'manager_neil': {'manager_neil_warnock': 3}, 'cup_third': {'cup_third_round': 4}, 'a_mid': {'a_mid_air': 3}, 'mid_air': {'mid_air_collision': 3}, 'the_launch': {'the_launch_of': 3}, 'confirmed_it': {'confirmed_it_will': 3, 'confirmed_it_is': 3}, 'in_formula': {'in_formula_1': 4}, 'hapoel_beer': {'hapoel_beer_sheva': 4}, 'league_group': {'league_group_stage': 3}, 'scored_three': {'scored_three_goals': 4}, 'three_goals': {'three_goals_in': 3}, 'been_elected': {'been_elected_as': 3}, 'than_90': {'than_90_000': 3}, 'chancellor_angela': {'chancellor_angela_merkel': 4}, 'from_islamic': {'from_islamic_state': 3}, 'activists_have': {'activists_have_been': 3}, 'national_crime': {'national_crime_agency': 4}, 'a_racist': {'a_racist_attack': 3}, 'a_time': {'a_time_when': 5}, 'be_making': {'be_making_a': 3}, 'build_up': {'build_up_to': 4}, 'and_off': {'and_off_the': 3}, 'aged_77': {'aged_77_after': 3}, 'and_money': {'and_money_laundering': 3}, 'the_lives': {'the_lives_of': 5}, 'service_has': {'service_has_said': 3}, 'striker_diego': {'striker_diego_costa': 3}, 'the_manchester': {'the_manchester_arena': 3, 'the_manchester_bombing': 3}, 'music_festival': {'music_festival_in': 3}, 'second_in': {'second_in_the': 5}, 'renewable_heat': {'renewable_heat_incentive': 3}, 'city_in': {'city_in_the': 4}, 'back_of': {'back_of_the': 3}, 'large_blaze': {'large_blaze_at': 3}, 'the_focus': {'the_focus_of': 3}, 'been_sent': {'been_sent_to': 3}, 'trial_accused': {'trial_accused_of': 4}, 'salford_red': {'salford_red_devils': 3}, 'cup_game': {'cup_game_against': 3}, 'is_targeting': {'is_targeting_a': 3}, 'hibernian_head': {'hibernian_head_coach': 3}, 'the_length': {'the_length_of': 3}, 'were_forced': {'were_forced_to': 4}, 'two_play': {'two_play_off': 3}, 'worth_up': {'worth_up_to': 3}, 'retire_from': {'retire_from_the': 3}, 'been_reunited': {'been_reunited_with': 5}, 'of_donald': {'of_donald_trump': 3}, 'irish_prime': {'irish_prime_minister': 3}, 'minister_enda': {'minister_enda_kenny': 4}, 'local_media': {'local_media_report': 3}, 'come_together': {'come_together_to': 4}, 'health_services': {'health_services_in': 3}, 'next_few': {'next_few_weeks': 3}, 'a_share': {'a_share_of': 4}, 'mixed_martial': {'mixed_martial_arts': 4}, 'parliament_has': {'parliament_has_voted': 3}, 'the_grounds': {'the_grounds_of': 8}, 'us_for': {'us_for_the': 3}, 'the_atp': {'the_atp_world': 4}, 'atp_world': {'atp_world_tour': 4}, 'world_tour': {'world_tour_finals': 4}, 's_prime': {'s_prime_minister': 9}, 'minister_nawaz': {'minister_nawaz_sharif': 4}, 'nawaz_sharif': {'nawaz_sharif_has': 3}, 'men_has': {'men_has_been': 3}, 'sanctions_against': {'sanctions_against_russia': 3}, 'key_figure': {'key_figure_in': 3}, 'the_killing': {'the_killing_of': 5}, 'decided_not': {'decided_not_to': 4}, 'in_straight': {'in_straight_sets': 5}, 'the_lawyer': {'the_lawyer_for': 4}, 'lawyer_for': {'lawyer_for_a': 4}, 'to_live': {'to_live_in': 3}, 'after_months': {'after_months_of': 3}, 'official_visit': {'official_visit_to': 3}, 'recently_released': {'recently_released_from': 3}, 's_foreign': {'s_foreign_minister': 3}, 'the_modern': {'the_modern_day': 3}, 'capital_of': {'capital_of_the': 4}, 'louis_van': {'louis_van_gaal': 4}, 'a_royal': {'a_royal_navy': 4}, 'after_weeks': {'after_weeks_of': 3}, 'bomb_attacks': {'bomb_attacks_in': 3}, 'against_south': {'against_south_africa': 3}, 'sets_to': {'sets_to_reach': 3}, 'turned_out': {'turned_out_for': 4}, 'for_causing': {'for_causing_the': 3}, 'belgian_grand': {'belgian_grand_prix': 3}, 'a_42': {'a_42_year': 3}, '42_year': {'42_year_old': 4}, 'a_cliff': {'a_cliff_in': 3}, 'an_influx': {'an_influx_of': 3}, 'fined_10': {'fined_10_000': 3}, 'the_creator': {'the_creator_of': 3}, 'mayor_sadiq': {'mayor_sadiq_khan': 3}, 'writes_the': {'writes_the_bbc': 3}, 's_has': {'s_has_reported': 3}, 'of_dollars': {'of_dollars_in': 3}, 'an_80': {'an_80_year': 4}, '80_year': {'80_year_old': 5}, 'robbery_at': {'robbery_at_a': 3}, 'the_open': {'the_open_championship': 3}, 'been_stabbed': {'been_stabbed_to': 4}, 'as_northern': {'as_northern_ireland': 4}, 'been_airlifted': {'been_airlifted_to': 3}, 'airlifted_to': {'airlifted_to_hospital': 5}, 'have_carried': {'have_carried_out': 3}, 'of_so': {'of_so_called': 7}, 'rights_activist': {'rights_activist_has': 3}, 'are_just': {'are_just_some': 4}, 'just_some': {'just_some_of': 4}, 'take_over': {'take_over_as': 3}, 'fatal_stabbing': {'fatal_stabbing_of': 3}, 'stabbing_of': {'stabbing_of_a': 5}, 'a_criminal': {'a_criminal_investigation': 3}, 'criminal_investigation': {'criminal_investigation_into': 3}, 'whether_or': {'whether_or_not': 3}, 's_league': {'s_league_two': 3}, 'teenager_who': {'teenager_who_died': 3}, 'climbed_to': {'climbed_to_second': 3}, 'africa_in': {'africa_in_the': 3}, 'iraqi_city': {'iraqi_city_of': 4}, 'get_under': {'get_under_way': 3}, 'for_refusing': {'for_refusing_to': 4}, 'for_some': {'for_some_of': 3}, 'striker_jamie': {'striker_jamie_vardy': 3}, 'for_rio': {'for_rio_2016': 3}, 'people_has': {'people_has_been': 3}, 'in_more': {'in_more_than': 4}, 'jessica_ennis': {'jessica_ennis_hill': 4}, 'radio_5': {'radio_5_live': 3}, 'injuries_in': {'injuries_in_a': 4}, 'a_73': {'a_73_year': 4}, '73_year': {'73_year_old': 4}, 'thinking_it': {'thinking_it_was': 4}, 'at_half': {'at_half_time': 3}, 'minister_martin': {'minister_martin_mcguinness': 3}, 'to_respond': {'to_respond_to': 3}, 'a_29': {'a_29_year': 3}, 'found_by': {'found_by_a': 3}, 'a_24': {'a_24_year': 4}, '24_year': {'24_year_old': 4}, 'week_after': {'week_after_a': 3}, 'trophy_at': {'trophy_at_the': 3}, 'to_record': {'to_record_a': 3}, 'worries_about': {'worries_about_the': 3}, 'a_matter': {'a_matter_of': 3}, 'been_involved': {'been_involved_in': 3}, 'becoming_only': {'becoming_only_the': 3}, 'only_the': {'only_the_second': 6}, '16_years': {'16_years_ago': 3}, 'released_without': {'released_without_charge': 4}, 'burst_into': {'burst_into_flames': 3}, 'after_thieves': {'after_thieves_stole': 3}, 'worth_thousands': {'worth_thousands_of': 3}, 'petition_calling': {'petition_calling_for': 3}, 'wolves_head': {'wolves_head_coach': 3}, 'rio_de': {'rio_de_janeiro': 5}, '27_year': {'27_year_old': 4}, 'that_broke': {'that_broke_out': 3}, 'avon_and': {'avon_and_somerset': 4}, 'added_to': {'added_to_the': 3}, 'the_seizure': {'the_seizure_of': 3}, 'league_by': {'league_by_beating': 3}, 'was_attacked': {'was_attacked_by': 3}, 'its_chief': {'its_chief_executive': 4}, 'his_bid': {'his_bid_for': 4, 'his_bid_to': 3}, 'secretary_amber': {'secretary_amber_rudd': 4}, 'was_banned': {'was_banned_for': 3}, 'of_leaving': {'of_leaving_the': 3}, 'are_likely': {'are_likely_to': 4}, 's_parliament': {'s_parliament_has': 3}, 'straight_sets': {'straight_sets_to': 3}, 'players_and': {'players_and_staff': 3}, 'confirmed_cases': {'confirmed_cases_of': 3}, 'says_head': {'says_head_coach': 5}, 'the_results': {'the_results_of': 5}, 'results_of': {'results_of_their': 3}, 'raised_more': {'raised_more_than': 4}, 'into_allegations': {'into_allegations_of': 3}, 'the_majority': {'the_majority_of': 3}, 'admitted_he': {'admitted_he_was': 3}, 'soldier_who': {'soldier_who_died': 3}, 'the_actions': {'the_actions_of': 3}, 'union_says': {'union_says_it': 3}, 'the_duchess': {'the_duchess_of': 4}, 'was_trying': {'was_trying_to': 3}, 'boss_ronald': {'boss_ronald_koeman': 3}, 'their_post': {'their_post_primary': 3}, 'post_primary': {'post_primary_school': 3}, 'school_entrance': {'school_entrance_exams': 3}, 'talks_aimed': {'talks_aimed_at': 3}, 'open_semi': {'open_semi_finals': 3}, 'an_unarmed': {'an_unarmed_black': 3}, 'do_more': {'do_more_to': 4}, '60_year': {'60_year_old': 3}, '29_year': {'29_year_old': 3}, 'prices_across': {'prices_across_the': 3}, 'is_poised': {'is_poised_to': 3}, 'than_previously': {'than_previously_thought': 3}, 'open_its': {'open_its_first': 3}, 'from_competing': {'from_competing_at': 3}, 'cup_second': {'cup_second_round': 3}, 'decline_in': {'decline_in_the': 3}, 'over_concerns': {'over_concerns_about': 3}, 'of_saturday': {'of_saturday_s': 3}, 's_plans': {'s_plans_to': 3}, 'one_play': {'one_play_off': 3}, 'family_have': {'family_have_said': 4}, 'the_heart': {'the_heart_of': 7}, 'heart_of': {'heart_of_the': 3}, 'the_grave': {'the_grave_of': 3}, 'channel_in': {'channel_in_the': 3}, 'minister_theresa': {'minister_theresa_may': 4}, 'opened_an': {'opened_an_investigation': 3}, 'close_us': {'close_us_markets': 3}, 'time_grand': {'time_grand_slam': 3}, 'winner_roger': {'winner_roger_federer': 3}, 'the_chelsea': {'the_chelsea_that': 3}, 'while_carrying': {'while_carrying_out': 3}, 'the_chairman': {'the_chairman_of': 5}, 'chairman_of': {'chairman_of_the': 3}, 'goalkeeper_joe': {'goalkeeper_joe_hart': 3}, 'of_not': {'of_not_being': 3}, 'the_brink': {'the_brink_of': 4}, 'may_is': {'may_is_to': 3}, 'in_caerphilly': {'in_caerphilly_county': 3}, 's_jessica': {'s_jessica_ennis': 3}, 'final_three': {'final_three_months': 3}, 'of_hundreds': {'of_hundreds_of': 3}, 'in_ivory': {'in_ivory_coast': 3}, 'been_added': {'been_added_to': 3}, 'being_convicted': {'being_convicted_of': 4}, 'letters_from': {'letters_from_african': 4}, 'been_linked': {'been_linked_to': 4}, 'could_potentially': {'could_potentially_be': 3}, 'works_of': {'works_of_art': 4}, 'the_return': {'the_return_of': 3}, 's_chemical': {'s_chemical_weapons': 3}, 'after_years': {'after_years_of': 4}, 'to_figures': {'to_figures_from': 3}, 'a_loan': {'a_loan_deal': 3}, 'a_27': {'a_27_year': 3}, 'welsh_premier': {'welsh_premier_league': 3}, 'narrow_victory': {'narrow_victory_over': 4}, 'moved_from': {'moved_from_a': 3}, 'he_failed': {'he_failed_to': 4}, 'detained_under': {'detained_under_the': 4}, 'the_mental': {'the_mental_health': 4}, 'gathered_for': {'gathered_for_a': 3}, 'the_founder': {'the_founder_of': 4}, 'the_controversy': {'the_controversy_over': 3}, 'sir_elton': {'sir_elton_john': 3}, 'most_expensive': {'most_expensive_city': 3}, 'shot_down': {'shot_down_a': 3}, 'professional_footballers': {'professional_footballers_association': 3}, 'of_sunday': {'of_sunday_s': 4}, 'the_africa': {'the_africa_cup': 3}, 'pounds_have': {'pounds_have_been': 3}, 'businessman_has': {'businessman_has_been': 3}, 'to_hand': {'to_hand_over': 4}, 'killed_more': {'killed_more_than': 3}, 'a_handful': {'a_handful_of': 3}, 'were_knocked': {'were_knocked_out': 3}, 'the_birth': {'the_birth_of': 3}, '000_rupee': {'000_rupee_notes': 3}, 'as_prime': {'as_prime_minister': 3}, 'have_both': {'have_both_been': 3}, 'with_attempting': {'with_attempting_to': 4}, 'at_more': {'at_more_than': 3}, 'a_witch': {'a_witch_hunt': 3}, 'its_northern': {'its_northern_ireland': 3}, 'are_trying': {'are_trying_to': 4}, 'international_space': {'international_space_station': 4}, 'chester_le': {'chester_le_street': 3}, 'in_renewable': {'in_renewable_energy': 3}, 'travel_firm': {'travel_firm_tui': 3}, '86_year': {'86_year_old': 4}, 'is_about': {'is_about_to': 3}, 'for_tens': {'for_tens_of': 3}, 'un_special': {'un_special_envoy': 3}, 'an_86': {'an_86_year': 3}, 'chelsea_that': {'chelsea_that_i': 3}}\n"
     ]
    }
   ],
   "source": [
    "# Build a unigram and bigram dictionary\n",
    "# map: unigram -> doc sent,  eg. \"Obama\" -> { \"he is obama\", \"you are obama\", ....} up to 100 sentences for each token\n",
    "\n",
    "# map: unigram -> summary bigrams. eg. \"of\" -> \"half_of\": count=12, \"some_of\" count=15, .....\n",
    "# map: unigram -> summary trigrams(future). eg. \"about_half\": \"about_half_of\" cnt=10, \"about_half_employee\" cnt=2\n",
    "\n",
    "# The bigram and trigrams must show up more than K=5 times to be stored\n",
    "\n",
    "MAX_SENT_FOR_TOKEN = 100\n",
    "import re\n",
    "WORD = re.compile(r'\\w+')\n",
    "def reg_tokenize(text):\n",
    "    words = WORD.findall(text)\n",
    "    return words\n",
    "from typing import Dict\n",
    "def trim_counter_in_dict(dict_cnts:dict, K=3):\n",
    "    trimed = {}\n",
    "    for k,v in dict_cnts.items():\n",
    "        v = {x: count for x, count in v.items() if count >= K}\n",
    "        if len(v)>0:\n",
    "            trimed[k] =v\n",
    "    return trimed\n",
    "\n",
    "\n",
    "def cache_feat_from_corpus(one_set,debug=False,min_cnt=3):\n",
    "    cnt = 0\n",
    "    map_tok_bigram_ref = {}\n",
    "    map_tok_sent_doc = {}\n",
    "    map_tok_trigram_ref = {}\n",
    "    for example in one_set:\n",
    "        cnt += 1\n",
    "        document  = example['document']\n",
    "        summary = example['summary']\n",
    "\n",
    "        # LM backward bigram\n",
    "        sum_unigram, sum_bigram = func_ngrams(summary,n=2)\n",
    "        for bigram_pair in sum_bigram:\n",
    "            key_word = bigram_pair[1:]\n",
    "            key_word = \"_\".join(key_word)\n",
    "            concat_pair = \"_\".join(bigram_pair)\n",
    "            if key_word in map_tok_bigram_ref:\n",
    "                cnter: Counter = map_tok_bigram_ref[key_word]\n",
    "                cnter.update([concat_pair])\n",
    "                map_tok_bigram_ref[key_word] = cnter\n",
    "            else:\n",
    "                map_tok_bigram_ref[key_word] = Counter([concat_pair])\n",
    "\n",
    "        # LM trigrams   forward\n",
    "        sum_unigram, sum_trigram = func_ngrams(summary,n=3)\n",
    "        for trigram_pair in sum_trigram:\n",
    "            key_word = trigram_pair[:-1]\n",
    "            key_word = \"_\".join(key_word)\n",
    "            concat_pair = \"_\".join(trigram_pair)\n",
    "            if key_word in map_tok_trigram_ref:\n",
    "                cnter: Counter = map_tok_trigram_ref[key_word]\n",
    "                cnter.update([concat_pair])\n",
    "                map_tok_trigram_ref[key_word] = cnter\n",
    "            else:\n",
    "                map_tok_trigram_ref[key_word] = Counter([concat_pair])\n",
    "\n",
    "\n",
    "        document_sents = document.split('\\n')\n",
    "        document_sents = document_sents[:5] # let's just trim to the first few sentences.\n",
    "        for doc_sent in document_sents:\n",
    "            doc_unigram, doc_bigram = func_ngrams(doc_sent,n=2)\n",
    "            for doc_tok in doc_unigram:\n",
    "                if doc_tok in map_tok_sent_doc:\n",
    "                    current_list_of_sents = map_tok_sent_doc[doc_tok]\n",
    "                    if len(current_list_of_sents)> MAX_SENT_FOR_TOKEN:\n",
    "                        continue\n",
    "                    new_tok_sentences = map_tok_sent_doc[doc_tok] + [doc_sent]\n",
    "                    map_tok_sent_doc[doc_tok] = new_tok_sentences\n",
    "                else:\n",
    "                    map_tok_sent_doc[doc_tok] = [doc_sent]\n",
    "\n",
    "        if debug:\n",
    "            if cnt > 10000:\n",
    "                break\n",
    "    # print(map_tok_bigram_ref)\n",
    "    map_tok_bigram_ref = trim_counter_in_dict(map_tok_bigram_ref)\n",
    "    print(map_tok_bigram_ref)\n",
    "    map_tok_trigram_ref = trim_counter_in_dict(map_tok_trigram_ref)\n",
    "    return  map_tok_bigram_ref, map_tok_trigram_ref, map_tok_sent_doc\n",
    "\n",
    "def func_ngrams(inp_str, n=2):\n",
    "    inp_str=inp_str.lower()\n",
    "    input = reg_tokenize(inp_str)\n",
    "    # always return tokens\n",
    "    output = []\n",
    "    for i in range(len(input)-n+1):\n",
    "        output.append(input[i:i+n])\n",
    "    return input, output\n",
    "\n",
    "map_tok_bigram_ref,map_tok_trigram_ref, map_tok_sent_doc = cache_feat_from_corpus(train_set,debug=True)\n",
    "print(map_tok_trigram_ref)"
   ],
   "metadata": {
    "collapsed": false,
    "pycharm": {
     "name": "#%%\n"
    },
    "tags": [
     "outputPrepend"
    ]
   }
  },
  {
   "cell_type": "code",
   "execution_count": 24,
   "outputs": [
    {
     "name": "stdout",
     "output_type": "stream",
     "text": [
      "[{'sequence': '[CLS] It is a. [SEP]', 'score': 0.04926545172929764, 'token': 119, 'token_str': '.'}, {'sequence': '[CLS] It is a function [SEP]', 'score': 0.01850147731602192, 'token': 3053, 'token_str': 'function'}, {'sequence': '[CLS] It is a constant [SEP]', 'score': 0.012798933312296867, 'token': 4836, 'token_str': 'constant'}, {'sequence': '[CLS] It is a problem [SEP]', 'score': 0.012675427831709385, 'token': 2463, 'token_str': 'problem'}, {'sequence': '[CLS] It is a map [SEP]', 'score': 0.009161712601780891, 'token': 4520, 'token_str': 'map'}]\n"
     ]
    }
   ],
   "source": [
    "# unconditional Bidirectional LM\n",
    "from transformers import pipeline\n",
    "unmasker = pipeline('fill-mask', model='distilbert-base-cased')\n",
    "# unmasker = pipeline('fill-mask', model='google/electra-small-discriminator')\n",
    "output = unmasker(\"It is a [MASK]\")\n",
    "print(output)"
   ],
   "metadata": {
    "collapsed": false,
    "pycharm": {
     "name": "#%%\n"
    }
   }
  },
  {
   "cell_type": "code",
   "execution_count": 19,
   "outputs": [
    {
     "name": "stdout",
     "output_type": "stream",
     "text": [
      "[{'sequence': '[CLS] barack hussein obama ii is an american politician and attorney who served as the 44th president of the united states from 2009 to 2017. [SEP]', 'score': 0.40714916586875916, 'token': 2000, 'token_str': 'to'}, {'sequence': '[CLS] barack hussein obama ii is an american politician and attorney who served as the 44th president of the united states from 2009 until 2017. [SEP]', 'score': 0.3334546685218811, 'token': 2127, 'token_str': 'until'}, {'sequence': '[CLS] barack hussein obama ii is an american politician and attorney who served as the 44th president of the united states from 2009 - 2017. [SEP]', 'score': 0.14666640758514404, 'token': 1011, 'token_str': '-'}, {'sequence': '[CLS] barack hussein obama ii is an american politician and attorney who served as the 44th president of the united states from 2009 – 2017. [SEP]', 'score': 0.05319356918334961, 'token': 1516, 'token_str': '–'}, {'sequence': '[CLS] barack hussein obama ii is an american politician and attorney who served as the 44th president of the united states from 2009 through 2017. [SEP]', 'score': 0.04599574953317642, 'token': 2083, 'token_str': 'through'}]\n"
     ]
    }
   ],
   "source": [
    "# configure Bidirectional LM and unidirectional LM\n",
    "from transformers import pipeline\n",
    "bi_unmasker = pipeline('fill-mask', model='distilbert-base-uncased',device=0)\n",
    "\n",
    "import torch\n",
    "from transformers import GPT2Tokenizer, GPT2LMHeadModel\n",
    "tokenizer = GPT2Tokenizer.from_pretrained('gpt2')\n",
    "model = GPT2LMHeadModel.from_pretrained('gpt2', return_dict=True)\n",
    "uni_unmasker = model.to(torch.device('cuda:0'))\n",
    "\n",
    "def mask_fill_bi(unmasker, inp_text, str_of_interest):\n",
    "    inp_text = inp_text.replace(f\" {str_of_interest}\", ' [MASK]')\n",
    "    output = unmasker(inp_text)\n",
    "    print(output)\n",
    "\n",
    "mask_fill_bi(bi_unmasker,\"Barack Hussein Obama II is an American politician and attorney who served as the 44th president of the United States from 2009 to 2017.\",\"to\")"
   ],
   "metadata": {
    "collapsed": false,
    "pycharm": {
     "name": "#%%\n"
    }
   }
  },
  {
   "cell_type": "code",
   "execution_count": 22,
   "outputs": [
    {
     "name": "stdout",
     "output_type": "stream",
     "text": [
      "tensor([-77.4425, -80.4463, -88.0498,  ..., -96.2564, -93.6345, -84.0666],\n",
      "       grad_fn=<SelectBackward>)\n"
     ]
    }
   ],
   "source": [
    "import torch\n",
    "from transformers import GPT2Tokenizer, GPT2LMHeadModel\n",
    "tokenizer = GPT2Tokenizer.from_pretrained('gpt2')\n",
    "model = GPT2LMHeadModel.from_pretrained('gpt2', return_dict=True)"
   ],
   "metadata": {
    "collapsed": false,
    "pycharm": {
     "name": "#%%\n"
    }
   }
  },
  {
   "cell_type": "code",
   "execution_count": null,
   "outputs": [],
   "source": [
    "txt = \"Hello, this is a \"\n",
    "\n",
    "\n",
    "inputs = tokenizer(txt, return_tensors=\"pt\")\n",
    "outputs = model(**inputs, labels=inputs[\"input_ids\"])\n",
    "logits = outputs.logits\n",
    "logits = logits[0,-1]\n",
    "top = torch.topk(logits,k=5)\n",
    "indices = top.indices.tolist()\n",
    "for idx in indices:\n",
    "    print(tokenizer.decode(idx))"
   ],
   "metadata": {
    "collapsed": false,
    "pycharm": {
     "name": "#%%\n",
     "is_executing": true
    }
   }
  },
  {
   "cell_type": "code",
   "execution_count": null,
   "outputs": [
    {
     "name": "stdout",
     "output_type": "stream",
     "text": [
      "cuda\n",
      "\n",
      "\n",
      "\n"
     ]
    },
    {
     "data": {
      "text/plain": "HBox(children=(FloatProgress(value=0.0, description='Downloading', max=898823.0, style=ProgressStyle(descripti…",
      "application/vnd.jupyter.widget-view+json": {
       "version_major": 2,
       "version_minor": 0,
       "model_id": "3b26d4f3513342b7b556daf6935ab575"
      }
     },
     "metadata": {},
     "output_type": "display_data"
    },
    {
     "data": {
      "text/plain": "HBox(children=(FloatProgress(value=0.0, description='Downloading', max=456318.0, style=ProgressStyle(descripti…",
      "application/vnd.jupyter.widget-view+json": {
       "version_major": 2,
       "version_minor": 0,
       "model_id": "54ee9ff79cf4446eafd913b62180f208"
      }
     },
     "metadata": {},
     "output_type": "display_data"
    },
    {
     "data": {
      "text/plain": "HBox(children=(FloatProgress(value=0.0, description='Downloading', max=1362.0, style=ProgressStyle(description…",
      "application/vnd.jupyter.widget-view+json": {
       "version_major": 2,
       "version_minor": 0,
       "model_id": "ff134c3c04224052980f9a4f1ef54a0d"
      }
     },
     "metadata": {},
     "output_type": "display_data"
    },
    {
     "data": {
      "text/plain": "HBox(children=(FloatProgress(value=0.0, description='Downloading', max=1625270765.0, style=ProgressStyle(descr…",
      "application/vnd.jupyter.widget-view+json": {
       "version_major": 2,
       "version_minor": 0,
       "model_id": "bbfd9c081f184d63ac372ec3bfedb1d8"
      }
     },
     "metadata": {},
     "output_type": "display_data"
    }
   ],
   "source": [
    "from transformers import PegasusForConditionalGeneration, PegasusTokenizer\n",
    "import torch\n",
    "\n",
    "# model_name = 'google/pegasus-xsum'\n",
    "model_name = 'facebook/bart-large-xsum'\n",
    "torch_device = 'cuda' if torch.cuda.is_available() else 'cpu'\n",
    "print(torch_device)\n",
    "# tokenizer = PegasusTokenizer.from_pretrained(model_name)\n",
    "# model = PegasusForConditionalGeneration.from_pretrained(model_name).to(torch_device)\n",
    "\n",
    "\n",
    "from transformers import BartTokenizer, BartForConditionalGeneration\n",
    "tokenizer = BartTokenizer.from_pretrained('facebook/bart-large-xsum')\n",
    "model = BartForConditionalGeneration.from_pretrained('facebook/bart-large-xsum')\n"
   ],
   "metadata": {
    "collapsed": false,
    "pycharm": {
     "name": "#%%\n",
     "is_executing": true
    }
   }
  },
  {
   "cell_type": "code",
   "execution_count": null,
   "outputs": [],
   "source": [
    "from lib.run_lime import run_model\n",
    "batch_for_model = []\n",
    "dec_summaries = []\n",
    "for idx in range(max_samples):\n",
    "    inp_doc, ref_sum = dev_set['document'][idx],dev_set['summary'][idx]\n",
    "    batch_for_model.append(inp_doc)\n",
    "    if len(batch_for_model) == batch_size:\n",
    "        model_output = run_model(model, tokenizer, batch_for_model, device=torch_device)\n",
    "        dec_summaries += model_output\n",
    "        batch_for_model = []\n",
    "if len(batch_for_model) != 0:\n",
    "    model_output = run_model(model, tokenizer, batch_for_model, device=torch_device)\n",
    "    dec_summaries += model_output\n",
    "    batch_for_model = []\n",
    "print(\"\\n\".join(dec_summaries)  )"
   ],
   "metadata": {
    "collapsed": false,
    "pycharm": {
     "name": "#%%\n",
     "is_executing": true
    }
   }
  },
  {
   "cell_type": "code",
   "execution_count": null,
   "outputs": [],
   "source": [
    "summaries = []\n",
    "docs = []\n",
    "output = []\n",
    "cnt = 0\n",
    "for idx in range(max_samples):\n",
    "    inp_doc, ref_sum = dev_set['document'][idx],dev_set['summary'][idx]\n",
    "    summaries.append(ref_sum)\n",
    "    docs.append(inp_doc)\n",
    "    cnt +=1\n",
    "    if cnt>max_samples:\n",
    "        break\n",
    "print(\"\".join(docs))\n",
    "# print(\"\".join(summaries))\n",
    "# print(\"\\n\".join(output))"
   ],
   "metadata": {
    "collapsed": false,
    "pycharm": {
     "name": "#%%\n",
     "is_executing": true
    }
   }
  },
  {
   "cell_type": "code",
   "execution_count": null,
   "outputs": [],
   "source": [
    "import stanza\n",
    "\n",
    "nlp = stanza.Pipeline(lang='en', processors='tokenize,mwt,pos,ner')\n",
    "s = 'Parts of the famous Staffordshire Hoard will be exhibited at Tamworth Castle next year.'\n",
    "doc = nlp(s )\n",
    "print(*[f'token: {token.text}\\tner: {token.ner}' for sent in doc.sentences for token in sent.tokens], sep='\\n')\n"
   ],
   "metadata": {
    "collapsed": false,
    "pycharm": {
     "name": "#%%\n",
     "is_executing": true
    }
   }
  },
  {
   "cell_type": "code",
   "execution_count": null,
   "outputs": [],
   "source": [
    "\n",
    "from allennlp.predictors.predictor import Predictor\n",
    "predictor = Predictor.from_path(\"https://storage.googleapis.com/allennlp-public-models/bert-base-srl-2020.03.24.tar.gz\")\n",
    "predictor.predict(\n",
    "  sentence=\"Did Uriah honestly think he could beat the game in under three hours?\"\n",
    ")"
   ],
   "metadata": {
    "collapsed": false,
    "pycharm": {
     "name": "#%%\n",
     "is_executing": true
    }
   }
  },
  {
   "cell_type": "code",
   "execution_count": 28,
   "outputs": [
    {
     "data": {
      "text/plain": "HBox(children=(FloatProgress(value=0.0, description='Downloading', max=1912529.0, style=ProgressStyle(descript…",
      "application/vnd.jupyter.widget-view+json": {
       "version_major": 2,
       "version_minor": 0,
       "model_id": "e01f6e4cc92d4727be8a8f867fa76ec2"
      }
     },
     "metadata": {},
     "output_type": "display_data"
    },
    {
     "name": "stdout",
     "output_type": "stream",
     "text": [
      "\n"
     ]
    }
   ],
   "source": [
    "from transformers import GPT2Tokenizer\n",
    "gpt_tok = GPT2Tokenizer.from_pretrained('gpt2')\n",
    "\n",
    "from transformers import BartTokenizer\n",
    "bart_tok = BartTokenizer.from_pretrained('facebook/bart-large')\n",
    "bart_tok_xsum = BartTokenizer.from_pretrained('facebook/bart-large-xsum')\n",
    "\n",
    "from transformers import PegasusTokenizer\n",
    "peg_tok = PegasusTokenizer.from_pretrained('google/pegasus-xsum')"
   ],
   "metadata": {
    "collapsed": false,
    "pycharm": {
     "name": "#%%\n"
    }
   }
  },
  {
   "cell_type": "code",
   "execution_count": 29,
   "outputs": [
    {
     "name": "stdout",
     "output_type": "stream",
     "text": [
      "PreTrainedTokenizer(name_or_path='gpt2', vocab_size=50257, model_max_len=1024, is_fast=False, padding_side='right', special_tokens={'bos_token': AddedToken(\"<|endoftext|>\", rstrip=False, lstrip=False, single_word=False, normalized=True), 'eos_token': AddedToken(\"<|endoftext|>\", rstrip=False, lstrip=False, single_word=False, normalized=True), 'unk_token': AddedToken(\"<|endoftext|>\", rstrip=False, lstrip=False, single_word=False, normalized=True)})\n",
      "PreTrainedTokenizer(name_or_path='facebook/bart-large', vocab_size=50265, model_max_len=1024, is_fast=False, padding_side='right', special_tokens={'bos_token': AddedToken(\"<s>\", rstrip=False, lstrip=False, single_word=False, normalized=True), 'eos_token': AddedToken(\"</s>\", rstrip=False, lstrip=False, single_word=False, normalized=True), 'unk_token': AddedToken(\"<unk>\", rstrip=False, lstrip=False, single_word=False, normalized=True), 'sep_token': AddedToken(\"</s>\", rstrip=False, lstrip=False, single_word=False, normalized=True), 'pad_token': AddedToken(\"<pad>\", rstrip=False, lstrip=False, single_word=False, normalized=True), 'cls_token': AddedToken(\"<s>\", rstrip=False, lstrip=False, single_word=False, normalized=True), 'mask_token': AddedToken(\"<mask>\", rstrip=False, lstrip=True, single_word=False, normalized=True)})\n",
      "PreTrainedTokenizer(name_or_path='facebook/bart-large-xsum', vocab_size=50265, model_max_len=1024, is_fast=False, padding_side='right', special_tokens={'bos_token': AddedToken(\"<s>\", rstrip=False, lstrip=False, single_word=False, normalized=True), 'eos_token': AddedToken(\"</s>\", rstrip=False, lstrip=False, single_word=False, normalized=True), 'unk_token': AddedToken(\"<unk>\", rstrip=False, lstrip=False, single_word=False, normalized=True), 'sep_token': AddedToken(\"</s>\", rstrip=False, lstrip=False, single_word=False, normalized=True), 'pad_token': AddedToken(\"<pad>\", rstrip=False, lstrip=False, single_word=False, normalized=True), 'cls_token': AddedToken(\"<s>\", rstrip=False, lstrip=False, single_word=False, normalized=True), 'mask_token': AddedToken(\"<mask>\", rstrip=False, lstrip=True, single_word=False, normalized=True)})\n",
      "PreTrainedTokenizer(name_or_path='google/pegasus-xsum', vocab_size=96103, model_max_len=512, is_fast=False, padding_side='right', special_tokens={'eos_token': '</s>', 'unk_token': '<unk>', 'pad_token': '<pad>'})\n"
     ]
    }
   ],
   "source": [
    "print(gpt_tok)\n",
    "print(bart_tok)\n",
    "print(bart_tok_xsum)\n",
    "print(gpt_tok)\n",
    "# print(peg_tok)"
   ],
   "metadata": {
    "collapsed": false,
    "pycharm": {
     "name": "#%%\n"
    }
   }
  }
 ],
 "metadata": {
  "kernelspec": {
   "display_name": "Python 3",
   "language": "python",
   "name": "python3"
  },
  "language_info": {
   "codemirror_mode": {
    "name": "ipython",
    "version": 2
   },
   "file_extension": ".py",
   "mimetype": "text/x-python",
   "name": "python",
   "nbconvert_exporter": "python",
   "pygments_lexer": "ipython2",
   "version": "3.8.3-final"
  }
 },
 "nbformat": 4,
 "nbformat_minor": 0
}